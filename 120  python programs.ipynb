{
 "cells": [
  {
   "cell_type": "markdown",
   "metadata": {},
   "source": [
    "100 PROGRAMS ON PYTHON"
   ]
  },
  {
   "cell_type": "code",
   "execution_count": null,
   "metadata": {},
   "outputs": [
    {
     "name": "stdout",
     "output_type": "stream",
     "text": [
      "odd\n"
     ]
    }
   ],
   "source": [
    "#1)Write a program to print the given number is odd or even.\n",
    "n=int(input().strip())\n",
    "if n%2==0:\n",
    "    print(\"num is even\")\n",
    "else:\n",
    "    print(\"odd\")    "
   ]
  },
  {
   "cell_type": "code",
   "execution_count": 11,
   "metadata": {},
   "outputs": [
    {
     "data": {
      "text/plain": [
       "'Even'"
      ]
     },
     "execution_count": 11,
     "metadata": {},
     "output_type": "execute_result"
    }
   ],
   "source": [
    "def check_num(n):\n",
    "    if n%2==0:\n",
    "        return \"Even\"\n",
    "    else:\n",
    "        return \"Odd\" \n",
    "check_num(22)        "
   ]
  },
  {
   "cell_type": "code",
   "execution_count": 20,
   "metadata": {},
   "outputs": [
    {
     "name": "stdout",
     "output_type": "stream",
     "text": [
      "n is Odd\n"
     ]
    }
   ],
   "source": [
    "chk_num= lambda n :\"Even\" if n % 2 == 0 else \"Odd\"\n",
    "n=int(input().strip())\n",
    "print(f\"n is {chk_num(n)}\")"
   ]
  },
  {
   "cell_type": "code",
   "execution_count": 23,
   "metadata": {},
   "outputs": [
    {
     "name": "stdout",
     "output_type": "stream",
     "text": [
      "number is 0\n"
     ]
    }
   ],
   "source": [
    "#2)Write a program to find the given number is positive or negative.\n",
    "n = int(input(). strip())\n",
    "if n>0:\n",
    "    print(\"number is positive\")\n",
    "elif n<0:\n",
    "    print(\"number is negative\")\n",
    "else:\n",
    "    print(\"number is 0\")        "
   ]
  },
  {
   "cell_type": "code",
   "execution_count": null,
   "metadata": {},
   "outputs": [
    {
     "data": {
      "text/plain": [
       "'Even'"
      ]
     },
     "execution_count": 28,
     "metadata": {},
     "output_type": "execute_result"
    }
   ],
   "source": [
    "def chcek_num (n):\n",
    "    if n>0:\n",
    "        print(\"number is positive\")\n",
    "    elif n<0:\n",
    "        print(\"number is negative\")\n",
    "    else:    \n",
    "        print(\"number is 0\")\n",
    "check_num(0)        \n"
   ]
  },
  {
   "cell_type": "code",
   "execution_count": 32,
   "metadata": {},
   "outputs": [
    {
     "name": "stdout",
     "output_type": "stream",
     "text": [
      "n is 0\n"
     ]
    }
   ],
   "source": [
    "chk_num=lambda n:\"positive\" if n>0 else \"negative\" if n<0 else 0\n",
    "n = int(input(). strip())\n",
    "print(f\"n is {chk_num(n)}\")"
   ]
  },
  {
   "cell_type": "code",
   "execution_count": 38,
   "metadata": {},
   "outputs": [
    {
     "name": "stdout",
     "output_type": "stream",
     "text": [
      "its prime\n"
     ]
    }
   ],
   "source": [
    "#3 Write a program to find if the given number is prime or not.\n",
    "n = int(input(). strip())\n",
    "if n%2==0 and n>2:\n",
    "    print(\"non prime\")\n",
    "elif n<2:\n",
    "    print(\"number less than 2\")\n",
    "else:\n",
    "    for i in range (3,int((n+1)/2)): \n",
    "        if n%i!=0:\n",
    "            continue\n",
    "        else:\n",
    "            print(\"its not prime\")\n",
    "            break\n",
    "    else:   \n",
    "        print(\"its prime\")\n"
   ]
  },
  {
   "cell_type": "code",
   "execution_count": 47,
   "metadata": {},
   "outputs": [
    {
     "name": "stdout",
     "output_type": "stream",
     "text": [
      "its prime\n"
     ]
    }
   ],
   "source": [
    "def chk_num(n):\n",
    "    if n%2==0 and n>2:\n",
    "        print(\"non prime\")\n",
    "    elif n<2:\n",
    "        print(\"num is less than 2\")\n",
    "    else:\n",
    "        for i in range (3,int((n+1)/2)): \n",
    "            if n%i!=0:\n",
    "                continue\n",
    "            else:\n",
    "                print(\"its not prime\")\n",
    "                break\n",
    "        else:\n",
    "            print(\"its prime\") \n",
    "chk_num(2)                      "
   ]
  },
  {
   "cell_type": "code",
   "execution_count": 50,
   "metadata": {},
   "outputs": [
    {
     "name": "stdout",
     "output_type": "stream",
     "text": [
      "Not Palindrome\n"
     ]
    }
   ],
   "source": [
    "#4)Write a program to check if the given number is palindrome or not.\n",
    "n = int(input(). strip())\n",
    "temp=n\n",
    "new_no=0\n",
    "while temp>0:\n",
    "    remainder = temp%10\n",
    "    new_no= (new_no*10) + remainder\n",
    "    temp = temp // 10\n",
    "if n == new_no:\n",
    "    print(\"pallindrome\")    \n",
    "else:\n",
    "  print(\"Not Palindrome\")"
   ]
  },
  {
   "cell_type": "code",
   "execution_count": null,
   "metadata": {},
   "outputs": [
    {
     "name": "stdout",
     "output_type": "stream",
     "text": [
      "    😊\n",
      "   😊😊\n",
      "  😊😊😊\n",
      " 😊😊😊😊\n",
      "😊😊😊😊😊\n"
     ]
    }
   ],
   "source": [
    "#5)smiley pyramid.\n",
    "def smiley_pyramid(rows):\n",
    "   smiley = \"😊\"\n",
    "   for i in range(1, rows + 1):\n",
    "      # Print spaces for alignment\n",
    "      print(' ' * (rows - i), end='')\n",
    "      # Print smileys\n",
    "      print(smiley * i)\n",
    "\n",
    "\n",
    "# Example usage:\n",
    "smiley_pyramid(5)"
   ]
  },
  {
   "cell_type": "code",
   "execution_count": null,
   "metadata": {},
   "outputs": [
    {
     "name": "stdout",
     "output_type": "stream",
     "text": [
      "Not\n"
     ]
    }
   ],
   "source": [
    "#6) Check if the number is Armstrong or not\n",
    "n=input().strip()\n",
    "sum=0\n",
    "for i in n:\n",
    "    sum=sum+int(i)**3\n",
    "if sum==int(n):\n",
    "    print(\"Armstrong\")\n",
    "else:\n",
    "    print(\"Not an armstrong\")   "
   ]
  },
  {
   "cell_type": "code",
   "execution_count": 75,
   "metadata": {},
   "outputs": [
    {
     "name": "stdout",
     "output_type": "stream",
     "text": [
      "Not an armstrong\n"
     ]
    }
   ],
   "source": [
    "#using a function\n",
    "def chk_armstrong(n):\n",
    "    sum=0\n",
    "    n=str(n)\n",
    "    for i in n:\n",
    "        sum=sum+int(i)**3\n",
    "    if sum==int(n):\n",
    "        print(\"Armstrong\")\n",
    "    else:\n",
    "        print(\"Not an armstrong\")  \n",
    "chk_armstrong(154)         "
   ]
  },
  {
   "cell_type": "code",
   "execution_count": 80,
   "metadata": {},
   "outputs": [
    {
     "name": "stdout",
     "output_type": "stream",
     "text": [
      "string is anagram\n"
     ]
    }
   ],
   "source": [
    "#7) Write a program to check if the given strings are anagram or not.\n",
    "word1= input(\"enter str1\")\n",
    "word2= input(\"enter str2\")\n",
    "sorted_word1= sorted(word1)\n",
    "sorted_word2=sorted(word2)\n",
    "if sorted_word1==sorted_word2:\n",
    "    print(\"string is anagram\")\n",
    "else:\n",
    "    print(\"not an anagram\")    "
   ]
  },
  {
   "cell_type": "code",
   "execution_count": 86,
   "metadata": {},
   "outputs": [
    {
     "name": "stdout",
     "output_type": "stream",
     "text": [
      "not an anagram\n"
     ]
    }
   ],
   "source": [
    "def chk_anagram (str1,str2):\n",
    "    sorted_str1= sorted(str1)\n",
    "    sorted_str2=sorted(str2)\n",
    "    if sorted_str1==sorted_str2:\n",
    "        print(\"string is anagram\")\n",
    "    else:\n",
    "        print(\"not an anagram\") \n",
    "chk_anagram(\"ram\",\"cake\")        "
   ]
  },
  {
   "cell_type": "code",
   "execution_count": 6,
   "metadata": {},
   "outputs": [
    {
     "name": "stdout",
     "output_type": "stream",
     "text": [
      "6 is maximum\n"
     ]
    }
   ],
   "source": [
    "#8 Write a program to find a maximum of two numbers.\n",
    "a = int(input(\"enter first numbrer\"))\n",
    "b = int(input(\"enter second number\"))\n",
    "if a>b:\n",
    "    print(a, \"is maximum\")    \n",
    "else:\n",
    "    print(b,\"is maximum\")     "
   ]
  },
  {
   "cell_type": "code",
   "execution_count": 5,
   "metadata": {},
   "outputs": [
    {
     "name": "stdout",
     "output_type": "stream",
     "text": [
      "4 is maximum\n"
     ]
    }
   ],
   "source": [
    "def chk_no (a,b):\n",
    "    if a>b:\n",
    "        print(a,\"is maximum\")\n",
    "    else:\n",
    "        print(b,\"is maximum\") \n",
    "chk_no(4,3)        "
   ]
  },
  {
   "cell_type": "code",
   "execution_count": 11,
   "metadata": {},
   "outputs": [
    {
     "name": "stdout",
     "output_type": "stream",
     "text": [
      "6 is maximum\n"
     ]
    }
   ],
   "source": [
    "#9)Write a program to find a maximum of three numbers.\n",
    "a = int(input(\"enter first numbrer\"))\n",
    "b = int(input(\"enter second number\"))\n",
    "c = int(input(\"enter third number\"))\n",
    "if a>=b and a>=c:\n",
    "    print(a,\"is maximum\")\n",
    "elif b>=a and b>=c:\n",
    "    print(b,\"is maximum\")    \n",
    "else:\n",
    "    print(c, \"is maximum\")  \n"
   ]
  },
  {
   "cell_type": "code",
   "execution_count": 15,
   "metadata": {},
   "outputs": [
    {
     "name": "stdout",
     "output_type": "stream",
     "text": [
      "2 is minimum\n"
     ]
    }
   ],
   "source": [
    "#10) Write a program to find a minimum of three numbers.\n",
    "def chk_min(a,b,c):\n",
    "    if a<=b and a<=c:\n",
    "        print(a,\"is minimum\")\n",
    "    elif b<=a and b<=c:\n",
    "        print(b,\"is minimum\")    \n",
    "    else:\n",
    "        print(c, \"is minimum\")\n",
    "chk_min(3,8,2)          "
   ]
  },
  {
   "cell_type": "code",
   "execution_count": 21,
   "metadata": {},
   "outputs": [
    {
     "name": "stdout",
     "output_type": "stream",
     "text": [
      "120\n"
     ]
    }
   ],
   "source": [
    "#11 Write a program to find a factorial of a number.\n",
    "num = int(input(\"enter a number\"))\n",
    "fact=1\n",
    "for i in range (1,num+1):\n",
    "    fact= fact*i\n",
    "    i+=1\n",
    "print(fact)\n",
    "    "
   ]
  },
  {
   "cell_type": "code",
   "execution_count": 27,
   "metadata": {},
   "outputs": [
    {
     "name": "stdout",
     "output_type": "stream",
     "text": [
      "120\n"
     ]
    }
   ],
   "source": [
    "#using functions\n",
    "def fact(a):\n",
    "    fact=1\n",
    "    for i in range (1,a+1):\n",
    "        fact=fact*i\n",
    "        i+=1\n",
    "    print(fact)\n",
    "fact(5)        "
   ]
  },
  {
   "cell_type": "code",
   "execution_count": null,
   "metadata": {},
   "outputs": [
    {
     "name": "stdout",
     "output_type": "stream",
     "text": [
      "[0, 1, 1, 2, 3, 5, 8, 13, 21, 34, 55, 89, 144]\n"
     ]
    }
   ],
   "source": [
    "#12 print Fibonaacoi series till the given index\n",
    "#0, 1, 1, 2, 3, 5, 8,13,21,34............\n",
    "#a=0\n",
    "#b=a+1\n",
    "#count = 0\n",
    "#print(a)\n",
    "#print(b)\n",
    "#while count<10:\n",
    "    #c=a+b\n",
    "    #a=b\n",
    "    #b=c\n",
    "    #print(c)\n",
    "    #count=count+1   \n",
    "\n",
    "_index = int(input(\"enter the index till which you want \" \\\n",
    "\"cci series\"))\n",
    "_output= [0,1]\n",
    "if _index == 0:\n",
    "    print(_output[:_index+1])\n",
    "elif _index ==1:\n",
    "    print(_output[:_index+1])\n",
    "else:\n",
    "    \n",
    "    \n"
   ]
  },
  {
   "cell_type": "code",
   "execution_count": 1,
   "metadata": {},
   "outputs": [
    {
     "name": "stdout",
     "output_type": "stream",
     "text": [
      "['Lion', 'Tiger', 'Monkey', 'Elephant', 'Frog']\n"
     ]
    }
   ],
   "source": [
    "#13-Convert the following into a list comprehension\n",
    "animals = ['lion','tiger','monkey','elephant','frog']\n",
    "filtered_animals = [animal.title() for animal in animals]\n",
    "print(filtered_animals)\n"
   ]
  },
  {
   "cell_type": "code",
   "execution_count": 4,
   "metadata": {},
   "outputs": [
    {
     "name": "stdout",
     "output_type": "stream",
     "text": [
      "['n', 'm']\n"
     ]
    }
   ],
   "source": [
    "name = input(\"enter a string\")\n",
    "vowel = [\"a\",\"e\",\"i\",\"o\",\"u\"]\n",
    "conso = []\n",
    "for i in name:\n",
    "    if i not in vowel:\n",
    "        conso.append(i)\n",
    "print(conso)    \n",
    "        \n",
    "\n"
   ]
  },
  {
   "cell_type": "code",
   "execution_count": 7,
   "metadata": {},
   "outputs": [
    {
     "name": "stdout",
     "output_type": "stream",
     "text": [
      "[1, 2, (2, 1)]\n"
     ]
    }
   ],
   "source": [
    "list = [1,2,(1,2)] #to [1,2,(2,1)]\n",
    "a=(2,1)\n",
    "list.pop()\n",
    "list.append(a)\n",
    "print(list)"
   ]
  },
  {
   "cell_type": "code",
   "execution_count": 2,
   "metadata": {},
   "outputs": [
    {
     "name": "stdout",
     "output_type": "stream",
     "text": [
      "12 33 54 75 96 117 138 159 180 201 222 243 264 285 306 327 348 369 390 411 432 453 474 495 516 537 558 579 600 621 642 663 684 "
     ]
    }
   ],
   "source": [
    "#A number elusive, divisible by three, When divided by seven, the remainder is five. Represented by 'x', this enigmatic tale, \n",
    "# Find the digits that make this riddle prevail.\n",
    "\n",
    "for n in range (1, 100):\n",
    "    if (7*n+5)%3==0:\n",
    "        print((7*n+5), end = \" \")"
   ]
  },
  {
   "cell_type": "code",
   "execution_count": null,
   "metadata": {},
   "outputs": [
    {
     "name": "stdout",
     "output_type": "stream",
     "text": [
      "list of even numbers = [2, 20, 8, 4, 28, 6, 18, 10, 30, 14, 16, 22]\n",
      " count of even no=\"12\n",
      " list of odd numbers = [5, 11, 9, 15, 17, 1, 21, 3, 13, 25, 33, 7, 19] \n",
      " count of odd no = 13\n"
     ]
    }
   ],
   "source": [
    "#14) Finding list of even and odd numbers and also finding count of those numbers\n",
    "numbers = [\n",
    "    [2, 5, 11, 20, 8],\n",
    "    [9, 4, 15, 28, 17],\n",
    "    [1, 6, 21, 18, 3],\n",
    "    [10, 13, 25, 33, 30],\n",
    "    [14, 7, 16, 19, 22]\n",
    "]\n",
    "even_count=0\n",
    "even_list= []\n",
    "odd_count =0 \n",
    "odd_list=[]\n",
    "for i in numbers:\n",
    "    for j in i:\n",
    "        if j%2==0:\n",
    "            even_list.append(j)\n",
    "            even_count+=1\n",
    "        else:\n",
    "            odd_list.append(j)\n",
    "            odd_count+=1    \n",
    "print(f'list of even numbers = {even_list}\\n count of even no=\"{even_count}\\n list of odd numbers = {odd_list} \\n count of odd no = {odd_count}')"
   ]
  },
  {
   "cell_type": "code",
   "execution_count": null,
   "metadata": {},
   "outputs": [
    {
     "name": "stdout",
     "output_type": "stream",
     "text": [
      "average score of class is :  83.8\n"
     ]
    }
   ],
   "source": [
    "#15) Use a for loop to calculate the average grade for the class\n",
    "grades = [90, 85, 95, 80, 75, 85, 90, 85, 70, 80,\n",
    "          90, 75, 80, 85, 90, 95, 80, 75, 85, 90,\n",
    "          85, 90, 75, 80, 85]\n",
    "total_grade = 0\n",
    "for i in grades :\n",
    "    total_grade = total_grade+i\n",
    "    average = total_grade/len(grades)\n",
    " \n",
    "print(\"average score of class is : \" , average)\n"
   ]
  },
  {
   "cell_type": "code",
   "execution_count": 12,
   "metadata": {},
   "outputs": [
    {
     "name": "stdout",
     "output_type": "stream",
     "text": [
      "1\n",
      "2\n"
     ]
    }
   ],
   "source": [
    "#16) for loop to count no of vowels in a string\n",
    "\n",
    "str_new = input(\"enter a string\")\n",
    "count_vowel = 0\n",
    "count_conso = 0\n",
    "for i in str_new:\n",
    "    if i in \"aeiouAEIOU\":\n",
    "        count_vowel+=1\n",
    "    else:\n",
    "        count_conso+=1\n",
    "print(count_vowel)\n",
    "print(count_conso)        \n"
   ]
  },
  {
   "cell_type": "code",
   "execution_count": 16,
   "metadata": {},
   "outputs": [
    {
     "name": "stdout",
     "output_type": "stream",
     "text": [
      "13\n",
      "gnirts a retne\n"
     ]
    }
   ],
   "source": [
    "#17) Reverse a string using while loop\n",
    "str_new = \"enter a string\"\n",
    "reversed_str = \"\"\n",
    "i = len(str_new)-1\n",
    "print(i)\n",
    "while i>=0:\n",
    "    reversed_str += str_new[i]\n",
    "    i-=1\n",
    "print(reversed_str)    \n"
   ]
  },
  {
   "cell_type": "code",
   "execution_count": null,
   "metadata": {},
   "outputs": [
    {
     "ename": "IndentationError",
     "evalue": "expected an indented block after 'for' statement on line 11 (4180842528.py, line 12)",
     "output_type": "error",
     "traceback": [
      "\u001b[1;36m  Cell \u001b[1;32mIn[22], line 12\u001b[1;36m\u001b[0m\n\u001b[1;33m    print(i)\u001b[0m\n\u001b[1;37m            ^\u001b[0m\n\u001b[1;31mIndentationError\u001b[0m\u001b[1;31m:\u001b[0m expected an indented block after 'for' statement on line 11\n"
     ]
    }
   ],
   "source": [
    "#18) Find key, value and items in a dictionary using a for loop\n",
    "library = {\n",
    "    'To Kill a Mockingbird': 'Harper Lee',\n",
    "    '1984': 'George Orwell',\n",
    "    'The Catcher in the Rye': 'J.D. Salinger',\n",
    "    'The Great Gatsby': 'F. Scott Fitzgerald'\n",
    "}\n",
    "\n",
    "for book in library: #print all the keys\n",
    "    for author in library.values(): # print all the values\n",
    "        for i in library.items(): # print all the items\n",
    "            print(i)"
   ]
  },
  {
   "cell_type": "code",
   "execution_count": 24,
   "metadata": {},
   "outputs": [
    {
     "name": "stdout",
     "output_type": "stream",
     "text": [
      "Total Revenue for Monday : 600 \n",
      "Total Revenue for Tuesday : 670 \n",
      "Total Revenue for Wednesday : 630 \n",
      "Total Revenue for Thursday : 710 \n",
      "Total Revenue for Friday : 750 \n",
      "Total Revenue for Saturday : 710 \n",
      "Total Revenue for Sunday : 610 \n"
     ]
    }
   ],
   "source": [
    "#19) # Calculate total revenue for each day of the week\n",
    "\n",
    "current_week_sales = {\n",
    "    \"Monday\": 100,\n",
    "    \"Tuesday\": 120,\n",
    "    \"Wednesday\": 110,\n",
    "    \"Thursday\": 130,\n",
    "    \"Friday\": 150,\n",
    "    \"Saturday\": 140,\n",
    "    \"Sunday\": 100,\n",
    "}\n",
    "\n",
    "# Define the previous week's daily revenue data.\n",
    "previous_week_revenue = {\n",
    "    \"Monday\": 500,\n",
    "    \"Tuesday\": 550,\n",
    "    \"Wednesday\": 520,\n",
    "    \"Thursday\": 580,\n",
    "    \"Friday\": 600,\n",
    "    \"Saturday\": 570,\n",
    "    \"Sunday\": 510,\n",
    "}\n",
    "\n",
    "#loop through the current week's daily sales\n",
    "for day,sales in current_week_sales.items():\n",
    "    #add to the previous weeks daily revenue \n",
    "    previous_week_revenue[day] = previous_week_revenue[day]+sales\n",
    "\n",
    "#print total revenue for each day of the week\n",
    "for day,revenue in previous_week_revenue.items():\n",
    "    print(f\"Total Revenue for {day} : {revenue} \")    "
   ]
  },
  {
   "cell_type": "code",
   "execution_count": 25,
   "metadata": {},
   "outputs": [
    {
     "name": "stdout",
     "output_type": "stream",
     "text": [
      "virat : 600\n",
      "dhoni : 1200\n",
      "rohit : 870\n",
      "shreyas : 750\n"
     ]
    }
   ],
   "source": [
    "#20) Calculating total runs for IPL 2024 and 2025\n",
    "#2024 IPL\n",
    "cricket_2024 = {\"virat\" : 100,\n",
    "                \"dhoni\" : 200,\n",
    "                \"rohit\" : 400,\n",
    "                \"shreyas\" : 300}\n",
    "#2025 IPL\n",
    "cricket_2025 = {\"virat\" : 500,\n",
    "                \"dhoni\" : 1000,\n",
    "                \"rohit\" : 470,\n",
    "                \"shreyas\" : 450}\n",
    "\n",
    "#We have to add runs of each player\n",
    "for key,values_1 in cricket_2024.items():\n",
    "  cricket_2025[key] = cricket_2025[key]+values_1\n",
    "for key,values_2 in cricket_2025.items():\n",
    "  print(f\"{key} : {values_2}\")"
   ]
  },
  {
   "cell_type": "code",
   "execution_count": 5,
   "metadata": {},
   "outputs": [
    {
     "ename": "TypeError",
     "evalue": "'int' object is not iterable",
     "output_type": "error",
     "traceback": [
      "\u001b[1;31m---------------------------------------------------------------------------\u001b[0m",
      "\u001b[1;31mTypeError\u001b[0m                                 Traceback (most recent call last)",
      "Cell \u001b[1;32mIn[5], line 17\u001b[0m\n\u001b[0;32m     15\u001b[0m \u001b[38;5;28;01mfor\u001b[39;00m j \u001b[38;5;129;01min\u001b[39;00m i: \n\u001b[0;32m     16\u001b[0m     \u001b[38;5;28;01mif\u001b[39;00m j \u001b[38;5;241m==\u001b[39m i[\u001b[38;5;241m0\u001b[39m]:\n\u001b[1;32m---> 17\u001b[0m         avg_roll \u001b[38;5;241m=\u001b[39m \u001b[38;5;28;43msum\u001b[39;49m\u001b[43m(\u001b[49m\u001b[43mi\u001b[49m\u001b[43m[\u001b[49m\u001b[38;5;241;43m0\u001b[39;49m\u001b[43m]\u001b[49m\u001b[43m)\u001b[49m\u001b[38;5;241m/\u001b[39m\u001b[38;5;28mlen\u001b[39m(i[\u001b[38;5;241m0\u001b[39m])\n\u001b[0;32m     18\u001b[0m \u001b[38;5;28mprint\u001b[39m(avg_roll)\n",
      "\u001b[1;31mTypeError\u001b[0m: 'int' object is not iterable"
     ]
    }
   ],
   "source": [
    "#21)You and your friends are playing a board game where you roll a dice and move your game piece accordingly. \n",
    "# However, you want to know the average number rolled by each player to see who's really the luckiest. \n",
    "# Write a program that takes a list of rolls as input for each player and uses a for loop to calculate the average roll for each player. \n",
    "# The winner gets bragging rights for being the luckiest!\n",
    "\n",
    "\n",
    "# define a list of rolls for each player\n",
    "player_rolls = [\n",
    "    [4, 2, 6, 3, 1],  # player 1's rolls\n",
    "    [3, 5, 6, 4, 2],  # player 2's rolls\n",
    "    [1, 2, 2, 6, 4]   # player 3's rolls\n",
    "]\n",
    "\n",
    "for i in player_rolls:\n",
    "    for j in i: \n",
    "        if j == i[0]:\n",
    "            avg_roll = sum(i[0])/len(i[0])\n",
    "    print(avg_roll)"
   ]
  },
  {
   "cell_type": "code",
   "execution_count": 7,
   "metadata": {},
   "outputs": [
    {
     "name": "stdout",
     "output_type": "stream",
     "text": [
      "you have to pay INR 45000\n"
     ]
    }
   ],
   "source": [
    "#22) Calculating the income Tax\n",
    "income = int(input(\"enter your salary:\"))\n",
    "if income<=300000:\n",
    "    tax=0\n",
    "elif income >300000 and income <= 600000:\n",
    "    tax = (income-300000)*0.05\n",
    "elif income > 600000 and income <= 900000:\n",
    "    tax = 15000 + (income - 600000)*0.10\n",
    "elif income > 900000 and income <= 1200000:\n",
    "    tax = 45000 + (income - 900000)*0.15  \n",
    "elif income > 1200000 and income <= 1500000:\n",
    "    tax = 90000 + (income - 1200000)*0.20              \n",
    "else :\n",
    "    tax = 15000 + (income - 1500000)*0.30              \n",
    "print(f\"you have to pay INR {round(tax)}\")\n"
   ]
  },
  {
   "cell_type": "code",
   "execution_count": 3,
   "metadata": {},
   "outputs": [
    {
     "name": "stdout",
     "output_type": "stream",
     "text": [
      "Not a leap year\n"
     ]
    }
   ],
   "source": [
    "#23 To check whether the year is leap year or not\n",
    "year = int(input(\"enter a year\"))\n",
    "if year % 100 != 0 and year%4==0:\n",
    "    print(\"leap year\")\n",
    "elif year%100==0 and year% 400==0:\n",
    "    print(\"leap year\")   \n",
    "else:\n",
    "    print(\"Not a leap year\")    "
   ]
  },
  {
   "cell_type": "code",
   "execution_count": 15,
   "metadata": {},
   "outputs": [
    {
     "name": "stdout",
     "output_type": "stream",
     "text": [
      "('car', 'bike', 'boat')\n"
     ]
    }
   ],
   "source": [
    "#24 [\"car\",\"bike\",\"truck\",\"boat\"]\n",
    "#Input a list and remove an item by giving input\n",
    "\n",
    "item_list=eval(input())\n",
    "rem = input() \n",
    "item_list.remove(rem)\n",
    "print(tuple(item_list))"
   ]
  },
  {
   "cell_type": "code",
   "execution_count": 19,
   "metadata": {},
   "outputs": [
    {
     "name": "stdout",
     "output_type": "stream",
     "text": [
      "1\n",
      "2\n",
      "4\n",
      "5\n",
      "10\n",
      "20\n"
     ]
    }
   ],
   "source": [
    "#25) print factors of a number\n",
    "#factors are those numbers which divides it\n",
    "\n",
    "num = int(input(\"enter a number\"))\n",
    "for i in range (1,num+1):\n",
    "    if num%i==0:\n",
    "        print(i)"
   ]
  },
  {
   "cell_type": "code",
   "execution_count": 20,
   "metadata": {},
   "outputs": [
    {
     "name": "stdout",
     "output_type": "stream",
     "text": [
      "sum of all even numbers : 10\n"
     ]
    }
   ],
   "source": [
    "#26) Write a python code which iterates through list of numbers and accumulates the sum of all even numbers\n",
    "\n",
    "num_list = eval(input(\"enter a list\"))\n",
    "_total = 0\n",
    "for i in num_list:\n",
    "    if i%2==0:\n",
    "        _total += i\n",
    "print(f\"sum of all even numbers : {_total}\")"
   ]
  },
  {
   "cell_type": "code",
   "execution_count": 22,
   "metadata": {},
   "outputs": [
    {
     "name": "stdout",
     "output_type": "stream",
     "text": [
      "sum of squares of number is : 14\n"
     ]
    }
   ],
   "source": [
    "#27)Calculate the sum of squares of numbers from 1 to n using a for loop\n",
    "n = int(input(\"enter a number\"))\n",
    "sum = 0\n",
    "for i in range (1,n+1):\n",
    "    square = i**2\n",
    "    sum = sum+square\n",
    "print(f\"sum of squares of number is : {sum}\")    "
   ]
  },
  {
   "cell_type": "code",
   "execution_count": 23,
   "metadata": {},
   "outputs": [
    {
     "name": "stdout",
     "output_type": "stream",
     "text": [
      "1.349537037037037\n"
     ]
    }
   ],
   "source": [
    "#28) Calculate the sum of numbers from 1 to n using a for loop\n",
    "#1/1^3 + 1/2^2+1/3^3+1/4^2+1/5^3.........\n",
    "#logic - odd - cube, even - square\n",
    "\n",
    "n = int(input(\"enter a number\"))\n",
    "total = 0\n",
    "for i in range (1,n+1):\n",
    "    if i%2==0:\n",
    "        total += 1/(i**2)\n",
    "    else:\n",
    "        total += 1/(i**3)\n",
    "print(total)            "
   ]
  },
  {
   "cell_type": "code",
   "execution_count": 25,
   "metadata": {},
   "outputs": [
    {
     "name": "stdout",
     "output_type": "stream",
     "text": [
      "1\n"
     ]
    }
   ],
   "source": [
    "#29) Factorial of a number\n",
    "n = int(input(\"enter a number\"))\n",
    "fact = 1\n",
    "for i in range (1,n+1):\n",
    "    fact = fact*i\n",
    "print(fact)    "
   ]
  },
  {
   "cell_type": "code",
   "execution_count": 34,
   "metadata": {},
   "outputs": [
    {
     "name": "stdout",
     "output_type": "stream",
     "text": [
      "6\n"
     ]
    }
   ],
   "source": [
    "#30) For any number print total of sum of digits\n",
    "n = int(input(\"enter a number\"))\n",
    "n_str = str(n)\n",
    "total=0\n",
    "for i in n_str:\n",
    "    total = total+int(i)\n",
    "print(total)    \n"
   ]
  },
  {
   "cell_type": "code",
   "execution_count": 38,
   "metadata": {},
   "outputs": [
    {
     "name": "stdout",
     "output_type": "stream",
     "text": [
      "prime\n"
     ]
    }
   ],
   "source": [
    "#31) Write a python program which taken an integer as an input and checks whether it is a prime .\n",
    "# a prime number is a number which is greater than 1 and has no divisors other than 1 and the number itself.\n",
    "#composite numbers = all other numbers\n",
    "#1 is neither prime nor composite\n",
    "\n",
    "num = int(input(\"enter a number :\"))\n",
    "_count = 0\n",
    "for i in range(2,num): #Exclusing :  1 & itself will divide all the numners\n",
    "    if num % i == 0:\n",
    "        _count+=1\n",
    "        break\n",
    "if _count>0:\n",
    "    print('composite')\n",
    "else:\n",
    "    print('prime')           \n"
   ]
  },
  {
   "cell_type": "code",
   "execution_count": 53,
   "metadata": {},
   "outputs": [
    {
     "name": "stdout",
     "output_type": "stream",
     "text": [
      "0 apples\n",
      "2 bread\n",
      "3 milk\n",
      "5 eggs\n"
     ]
    }
   ],
   "source": [
    "#32) Write a python program that iterates through a list of the items using a enumrate(). If an item is out of use continue statement to skip \n",
    "#printing of item . Otherwise , print the index and item names.\n",
    "#list = [\"apples\",None,\"bread\",\"milk\",None,\"eggs\"]\n",
    "shopping_list = [\"apples\",None,\"bread\",\"milk\",None,\"eggs\"]\n",
    "for i,j in enumerate(shopping_list):\n",
    "    if j == None:\n",
    "        continue\n",
    "    print(i,j)"
   ]
  },
  {
   "cell_type": "code",
   "execution_count": 55,
   "metadata": {},
   "outputs": [
    {
     "data": {
      "text/plain": [
       "'@@@@@@@@@'"
      ]
     },
     "execution_count": 55,
     "metadata": {},
     "output_type": "execute_result"
    }
   ],
   "source": [
    "\"@\"*9"
   ]
  },
  {
   "cell_type": "code",
   "execution_count": null,
   "metadata": {},
   "outputs": [
    {
     "name": "stdout",
     "output_type": "stream",
     "text": [
      "*\n",
      "**\n",
      "***\n",
      "****\n",
      "*****\n",
      "******\n"
     ]
    }
   ],
   "source": [
    "#33) print a pattern\n",
    "\n",
    "n = int(input(\"enter the depth of the pattern\"))\n",
    "for i in range (1,n+1):\n",
    "    print(\"*\"*i)"
   ]
  },
  {
   "cell_type": "code",
   "execution_count": null,
   "metadata": {},
   "outputs": [],
   "source": [
    "#34)Diamond pattern\n",
    "n = int(input(\"enter the depth of the pattern\"))\n",
    "for i in range (1,n+1):\n",
    "    print(\"*\"*i)"
   ]
  },
  {
   "cell_type": "code",
   "execution_count": 62,
   "metadata": {},
   "outputs": [
    {
     "name": "stdout",
     "output_type": "stream",
     "text": [
      "product B\n",
      "product C\n"
     ]
    }
   ],
   "source": [
    "#35) Looping over a dictionary and finding a defective product\n",
    "_dict = {\"product A\": False, \"product B\": True, \"product C\": True, \"product D\": False}\n",
    "for i,j in _dict.items():\n",
    "    if j == True:\n",
    "        print(i)"
   ]
  },
  {
   "cell_type": "code",
   "execution_count": 75,
   "metadata": {},
   "outputs": [
    {
     "name": "stdout",
     "output_type": "stream",
     "text": [
      "intersting\n"
     ]
    }
   ],
   "source": [
    "#36) Print the longest word in the sentence \n",
    "sentence = \"Python is the most intersting language\"\n",
    "new_list = sentence.split()\n",
    "longest_word = sentence[0]  #assumption\n",
    "for i in new_list:\n",
    "    if len(i) > len(longest_word):\n",
    "        longest_word=i\n",
    "print(longest_word)        \n",
    "    "
   ]
  },
  {
   "cell_type": "code",
   "execution_count": null,
   "metadata": {},
   "outputs": [
    {
     "name": "stdout",
     "output_type": "stream",
     "text": [
      "5\n"
     ]
    }
   ],
   "source": [
    "#37) count vowels in a string\n",
    "str = input(\"enter a string\")\n",
    "count = 0\n",
    "for i in str:\n",
    "    if i in \"aeiouAEIOU\":\n",
    "        count +=1\n",
    "print(count)        "
   ]
  },
  {
   "cell_type": "code",
   "execution_count": null,
   "metadata": {},
   "outputs": [
    {
     "name": "stdout",
     "output_type": "stream",
     "text": [
      "{'R': 1, 'A': 3, 'M': 1}\n"
     ]
    }
   ],
   "source": [
    "#38) Create a dictionary with key as unique characters in a word and value as number of times character is repeating\n",
    "\n",
    "new_str = (input(\"enter a word\"))\n",
    "new_dict = {} #empty dictionary\n",
    "\n",
    "for i in new_str:\n",
    "    new_dict[i] = new_str.count(i) ## Counts occurrences of each character and stores in the dictionary\n",
    "print(new_dict)    "
   ]
  },
  {
   "cell_type": "code",
   "execution_count": null,
   "metadata": {},
   "outputs": [
    {
     "name": "stdout",
     "output_type": "stream",
     "text": [
      "{'apple': 3, 'banana': 3, 'cherry': 2, 'kiwi': 1}\n"
     ]
    }
   ],
   "source": [
    "#39 counting number of items and storing them in a dictionary\n",
    "fruits = [\"apple\",\"banana\",\"cherry\",\"apple\",\"banana\",\"kiwi\",\"cherry\",\"apple\",\"banana\"]\n",
    "dict = {}\n",
    "for i in fruits :\n",
    "   dict[i]=fruits.count(i)\n",
    "print(dict)   "
   ]
  },
  {
   "cell_type": "code",
   "execution_count": 88,
   "metadata": {},
   "outputs": [
    {
     "name": "stdout",
     "output_type": "stream",
     "text": [
      "[4, 6, 8]\n"
     ]
    }
   ],
   "source": [
    "#40 provide the output as even values in the list\n",
    "list_ = [3,4,5,6,7,8]\n",
    "new_list=[]\n",
    "for i in list_:\n",
    "    if i%2==0:\n",
    "        new_list.append(i)\n",
    "print(new_list)    "
   ]
  },
  {
   "cell_type": "code",
   "execution_count": null,
   "metadata": {},
   "outputs": [
    {
     "name": "stdout",
     "output_type": "stream",
     "text": [
      "prynk\n"
     ]
    }
   ],
   "source": [
    "#41 give an input as a string and print only consonent present in that string\n",
    "str_= input(\"enter a string\")\n",
    "new__str=\"\"\n",
    "for i in str_:\n",
    "    if i not in \"aeiouAEIOU\":\n",
    "        new__str=new__str+i\n",
    "print(new__str)        "
   ]
  },
  {
   "cell_type": "code",
   "execution_count": 1,
   "metadata": {},
   "outputs": [
    {
     "name": "stdout",
     "output_type": "stream",
     "text": [
      "A vowel\n",
      "l consonent\n",
      "m consonent\n",
      "a vowel\n",
      "b consonent\n",
      "e vowel\n",
      "t consonent\n",
      "t consonent\n",
      "e vowel\n",
      "r consonent\n"
     ]
    }
   ],
   "source": [
    "word = \"Almabetter\"\n",
    "for i in word:\n",
    "  if i in \"aeiouAEIOU\":\n",
    "    print(i, \"vowel\")\n",
    "  else:\n",
    "    print(i,\"consonent\")  "
   ]
  },
  {
   "cell_type": "code",
   "execution_count": null,
   "metadata": {},
   "outputs": [
    {
     "name": "stdout",
     "output_type": "stream",
     "text": [
      "32\n"
     ]
    }
   ],
   "source": [
    "#42) For any num print the total sum of digits applying the logic of if num is even do square else cube\n",
    "#Input : 123 : output = 32\n",
    "# 1^3+2^2+3^3= 1+4+27 = 32\n",
    "num = int(input(\"enter a number\"))\n",
    "num_str = str(num)\n",
    "total = 0\n",
    "for i in num_str:\n",
    "    i = int(i)\n",
    "    if i %2 ==0:\n",
    "        total = total + (i**2)\n",
    "    else:\n",
    "        total = total + (i**3)   \n",
    "print(total)             "
   ]
  },
  {
   "cell_type": "code",
   "execution_count": 5,
   "metadata": {},
   "outputs": [
    {
     "name": "stdout",
     "output_type": "stream",
     "text": [
      "total = 96.0\n"
     ]
    }
   ],
   "source": [
    "#43 Case Study Question: Discount Calculator\n",
    "\n",
    "#You are working for an e-commerce website.\n",
    "#Create a program that calculates the total cost of items in a shopping cart after applying discounts.\n",
    "#Use a for loop to iterate through the cart and apply the following discounts:\n",
    "\n",
    "# 10% off for items costing between $10 and $50.\n",
    "# 20% off for items costing more than $50.\n",
    "# No discount for items costing less than $10.\n",
    "\n",
    "# Expected Output\n",
    "# cart = [7, 15, 35, 80, 5] --> Total Cost : 121\n",
    "# cart = [7, 8, 2 ] --> Total Cost : 17\n",
    "# cart = [20] --> Total Cost : 18\n",
    "# cart = [20,60] --> Total Cost : 66\n",
    "cart = eval(input(\"enter a list of costs\"))\n",
    "total = 0\n",
    "for i in cart:\n",
    "    if i < 10:\n",
    "        total = total+i\n",
    "    elif i>=10 and i <=50:\n",
    "        total = total+ (i*(1-0.1))\n",
    "           \n",
    "    elif i >50:\n",
    "        discount = total+(i*(1-0.20))\n",
    "    else:\n",
    "        print(\"no discount\")    \n",
    "print(\"total =\",(total-discount))    \n"
   ]
  },
  {
   "cell_type": "code",
   "execution_count": 10,
   "metadata": {},
   "outputs": [
    {
     "name": "stdout",
     "output_type": "stream",
     "text": [
      "     *\n",
      "    ***\n",
      "   *****\n",
      "  *******\n",
      " *********\n",
      "***********\n"
     ]
    }
   ],
   "source": [
    "#44)--print pyramid pattern using a/depth for loop\n",
    "#pattern each row is created by space and stars\n",
    "\n",
    "depth = int(input())    \n",
    "space = list(range(depth-1, -1, -1))\n",
    "stars = list(range(1,2*depth,2))\n",
    "for i,j in zip(space,stars):\n",
    "    print(\" \" * i + \"*\"*j)\n",
    "\n",
    "\n",
    "#depth = 6\n",
    "#row-1 5 spaces 1 star\n",
    "#row-2 4 spaces 3 stars\n",
    "#row 3 3 spaces 5 stars\n",
    "#row 4 2 spaces 7 stars\n",
    "#row 5 1 space 9 stars\n",
    "#row 6 0 space 11 stars\n",
    "\n",
    "\n"
   ]
  },
  {
   "cell_type": "code",
   "execution_count": null,
   "metadata": {},
   "outputs": [],
   "source": [
    "depth = 6\n",
    "list(range(depth-1,-1,-1)) #(5,-1,-1) #5,4,3,2,1,0"
   ]
  },
  {
   "cell_type": "code",
   "execution_count": null,
   "metadata": {},
   "outputs": [],
   "source": [
    "#for opposite triangle-depth=6,\n",
    "#1st row-space =0, stars = 11  \n",
    "#2nd row-space =1, starts = 9\n",
    "#3rd- space = 2, starts = 7\n",
    "#4th - space = 3, stars = 5\n",
    "#5th -space = 4, stars = 3\n",
    "#6th -space = 5, stars = 1"
   ]
  },
  {
   "cell_type": "code",
   "execution_count": null,
   "metadata": {},
   "outputs": [],
   "source": [
    "logic = "
   ]
  },
  {
   "cell_type": "code",
   "execution_count": null,
   "metadata": {},
   "outputs": [
    {
     "name": "stdout",
     "output_type": "stream",
     "text": [
      "***********\n",
      " *********\n",
      "  *******\n",
      "   *****\n",
      "    ***\n",
      "     *\n"
     ]
    }
   ],
   "source": [
    "#Opposite Triangle code\n",
    "depth = int(input())    \n",
    "space = list(range(0,depth+1))\n",
    "stars = list(range(2*depth-1,0,-2))\n",
    "for i,j in zip(space,stars):\n",
    "    print(\" \" * i + \"*\"*j)\n"
   ]
  },
  {
   "cell_type": "code",
   "execution_count": 28,
   "metadata": {},
   "outputs": [
    {
     "name": "stdout",
     "output_type": "stream",
     "text": [
      "     *\n",
      "    ***\n",
      "   *****\n",
      "  *******\n",
      " *********\n",
      "***********\n",
      " *********\n",
      "  *******\n",
      "   *****\n",
      "    ***\n",
      "     *\n"
     ]
    }
   ],
   "source": [
    "#diamond pattern\n",
    "\n",
    "depth = int(input())    \n",
    "space = list(range(depth-1, -1, -1))\n",
    "stars = list(range(1,2*depth,2))\n",
    "#print(list(zip(space,stars))[::-1])\n",
    "for i,j in zip(space,stars):\n",
    "    print(\" \" * i + \"*\"*j)\n",
    "for i,j in list(zip(space,stars))[-2::-1]:\n",
    "    print(\" \" * i + \"*\"*j)"
   ]
  },
  {
   "cell_type": "code",
   "execution_count": 33,
   "metadata": {},
   "outputs": [
    {
     "name": "stdout",
     "output_type": "stream",
     "text": [
      "***********\n",
      " *********\n",
      "  *******\n",
      "   *****\n",
      "    ***\n",
      "     *\n",
      "    ***\n",
      "   *****\n",
      "  *******\n",
      " *********\n",
      "***********\n"
     ]
    }
   ],
   "source": [
    "#hour glass\n",
    "depth = int(input())   \n",
    "space = list(range(depth-1, -1, -1))\n",
    "stars = list(range(1,2*depth,2))\n",
    "for i,j in list(zip(space,stars))[::-1]:\n",
    "    print(\" \" * i + \"*\"*j)\n",
    "for i,j in list(zip(space,stars))[1:]:\n",
    "    print(\" \" * i + \"*\"*j)"
   ]
  },
  {
   "cell_type": "code",
   "execution_count": 46,
   "metadata": {},
   "outputs": [
    {
     "name": "stdout",
     "output_type": "stream",
     "text": [
      "[24]\n",
      "[24, 34]\n",
      "[24, 34, 67]\n",
      "[24, 34, 67, 56]\n",
      "[34]\n",
      "[34, 67]\n",
      "[34, 67, 56]\n",
      "[67]\n",
      "[67, 56]\n",
      "[56]\n"
     ]
    }
   ],
   "source": [
    "#45) Print all possible sublists of a given list\n",
    "# DNA pattern matching  \n",
    "\n",
    "#input_list = eval(input(\"enter a list\"))\n",
    "list_ = [24,34,67,56]\n",
    "for i in range(len(list_)): #range 4 (0,1,2,3)|i=0     |i=1   |i=2\n",
    "    _output=[list_[i]]\n",
    "    print(_output)\n",
    "    for j in range (i+1, len(list_)): #range (1,4) 1,2,3|j= 2,3| j=3\n",
    "        _output.append(list_[j])\n",
    "        print(_output)"
   ]
  },
  {
   "cell_type": "code",
   "execution_count": null,
   "metadata": {},
   "outputs": [],
   "source": []
  },
  {
   "cell_type": "code",
   "execution_count": 16,
   "metadata": {},
   "outputs": [
    {
     "name": "stdout",
     "output_type": "stream",
     "text": [
      "1\n",
      "2\n",
      "3\n",
      "4\n",
      "6\n",
      "7\n",
      "8\n",
      "9\n",
      "10\n"
     ]
    }
   ],
   "source": [
    "#46)Print numbers from 1 to 10 using while loop also skip no 5\n",
    "n = 1\n",
    "while n<=10:\n",
    "  if n==5:\n",
    "    n+=1 \n",
    "    continue\n",
    "  print(n)\n",
    "  n+=1\n",
    "#while loop with continue is a dangerous condition don't use it"
   ]
  },
  {
   "cell_type": "code",
   "execution_count": 20,
   "metadata": {},
   "outputs": [
    {
     "name": "stdout",
     "output_type": "stream",
     "text": [
      "15\n"
     ]
    }
   ],
   "source": [
    "#47) sum of n natural numbers using while loop\n",
    "num = int(input(\"enter a number\"))\n",
    "sum=0\n",
    "i=1\n",
    "while i <= num:\n",
    "  sum=sum+i\n",
    "  i+=1\n",
    "print(sum)    "
   ]
  },
  {
   "cell_type": "code",
   "execution_count": 2,
   "metadata": {},
   "outputs": [
    {
     "name": "stdout",
     "output_type": "stream",
     "text": [
      "25\n"
     ]
    }
   ],
   "source": [
    "#48) sum of first n odd numbers\n",
    "num = int(input(\"enter a number\"))\n",
    "sum=0\n",
    "i=1\n",
    "while i <= num:\n",
    "    if i%2!=0:\n",
    "        sum=sum+i\n",
    "    i+=1\n",
    "print(sum)        \n",
    "\n",
    "#output-Single Number-sum-aggregation"
   ]
  },
  {
   "cell_type": "code",
   "execution_count": 3,
   "metadata": {},
   "outputs": [
    {
     "name": "stdout",
     "output_type": "stream",
     "text": [
      "25\n"
     ]
    }
   ],
   "source": [
    "#without if condition\n",
    "sum = int(input(\"enter a number\"))\n",
    "sum=0\n",
    "i=1\n",
    "while i <= num:\n",
    "    sum=sum+i\n",
    "    i+=2\n",
    "print(sum)        \n",
    "\n",
    "#output-Single Number-sum-aggregation"
   ]
  },
  {
   "cell_type": "code",
   "execution_count": 11,
   "metadata": {},
   "outputs": [
    {
     "name": "stdout",
     "output_type": "stream",
     "text": [
      "[1, 3, 4, 4]\n"
     ]
    }
   ],
   "source": [
    "#48) Write a program to remove one specific element from the list\n",
    "#[1,2,3,4,2,2,4]\n",
    "list_= [1,2,3,4,2,2,4]\n",
    "no_to_remove=2\n",
    "while no_to_remove in list_: #start\n",
    "    list_.remove(no_to_remove) #condition\n",
    "print(list_)    #stop"
   ]
  },
  {
   "cell_type": "code",
   "execution_count": 7,
   "metadata": {},
   "outputs": [
    {
     "name": "stdout",
     "output_type": "stream",
     "text": [
      "[1, 3, 4, 4]\n"
     ]
    }
   ],
   "source": [
    "list_ = [1, 2, 3, 4, 2, 2, 4]\n",
    "result = []\n",
    "\n",
    "for i in list_:\n",
    "    if i != 2:\n",
    "        result.append(i)\n",
    "\n",
    "print(result)  "
   ]
  },
  {
   "cell_type": "code",
   "execution_count": 9,
   "metadata": {},
   "outputs": [
    {
     "name": "stdout",
     "output_type": "stream",
     "text": [
      "120\n"
     ]
    }
   ],
   "source": [
    "#49) Find factorial using while loop\n",
    "number = int(input(\"enter a number\"))\n",
    "fact=1\n",
    "i=1\n",
    "while i<=number :\n",
    "    fact = fact*i\n",
    "    i+=1\n",
    "print(fact)    "
   ]
  },
  {
   "cell_type": "code",
   "execution_count": 21,
   "metadata": {},
   "outputs": [
    {
     "name": "stdout",
     "output_type": "stream",
     "text": [
      "Thala for a reason\n"
     ]
    }
   ],
   "source": [
    "#50)'''\n",
    "#Write a Python code that takes a positive integer n as input.\n",
    "#The output should repeatedly sum the digits of n until a single-digit number is obtained.\n",
    "#If the resulting single-digit number is 7, the output should print \"Thala for a reason\".\n",
    "#Otherwise, it should return the single-digit number.\n",
    "#Input -- 1234 --> 1+2+3+4 -- > 10 --> 1+ 0 --> 1\n",
    "# Single digit is equal to 7 : Thala for a reason\n",
    "\n",
    "input_num= int(input(\"enter a number\"))\n",
    "str_num = str(input_num)\n",
    "while len(str_num)>1:\n",
    "    total=0\n",
    "    for i in str_num:\n",
    "        total = total+int(i)\n",
    "    str_num=str(total)\n",
    "if str_num == \"7\":\n",
    "    print(\"Thala for a reason\")\n",
    "else:\n",
    "    print(int(str_num))"
   ]
  },
  {
   "cell_type": "code",
   "execution_count": 49,
   "metadata": {},
   "outputs": [
    {
     "name": "stdout",
     "output_type": "stream",
     "text": [
      "Number is less than or equal to 10\n"
     ]
    }
   ],
   "source": [
    "num = 5\n",
    "if num > 10:\n",
    "   print(\"Number is greater than 10\")\n",
    "else:\n",
    "   print(\"Number is less than or equal to 10\")"
   ]
  },
  {
   "cell_type": "code",
   "execution_count": null,
   "metadata": {},
   "outputs": [
    {
     "name": "stdout",
     "output_type": "stream",
     "text": [
      "30\n"
     ]
    }
   ],
   "source": [
    "#51) Sum of Even Numbers\n",
    "#Description: Write a Python program that takes a positive integer n as input and uses a while loop to calculate the sum of all even numbers from 1 to n.\n",
    "#Example:\n",
    "#Input: n = 10\n",
    "#Output: Sum of even numbers = 30 (since 2 + 4 + 6 + 8 + 10 = 30)\n",
    "\n",
    "_num= int(input(\"enter a number\"))\n",
    "total=0\n",
    "i=1 #start\n",
    "while i<=_num:\n",
    "    if i%2==0:\n",
    "        total+=i\n",
    "    i+=1\n",
    "print(total) #stopper\n",
    "\n"
   ]
  },
  {
   "cell_type": "code",
   "execution_count": 10,
   "metadata": {},
   "outputs": [
    {
     "name": "stdout",
     "output_type": "stream",
     "text": [
      "3\n"
     ]
    }
   ],
   "source": [
    "#52) ''\n",
    "#Count Vowels in a String\n",
    "#Description: Write a Python program that takes a string as input\n",
    "#and uses a while loop to count the number of vowels (a, e, i, o, u) in the string.\n",
    "#ignore the case of the characters.\n",
    "#Example:\n",
    "#Input: string = \"Hello World\"\n",
    "#Output: Number of vowels = 3 (since 'e', 'o', and 'o' are vowels)\n",
    "\n",
    "_str_ = input(\"enter a string\")\n",
    "count = 0\n",
    "i=0\n",
    "while i<len(_str_):\n",
    "    if _str_[i] in \"aeiouAEIOU\":\n",
    "        count+=1\n",
    "    i+=1      \n",
    "print(count)\n",
    "      "
   ]
  },
  {
   "cell_type": "code",
   "execution_count": 14,
   "metadata": {},
   "outputs": [
    {
     "name": "stdout",
     "output_type": "stream",
     "text": [
      "GCD = 6\n",
      "iteraions = : 47\n"
     ]
    }
   ],
   "source": [
    "#53)\n",
    "#Find the Greatest Common Divisor (GCD) / HCF (Highest common factor)\n",
    "#Description: Write a Python program that takes two positive integers as input and\n",
    "#uses a while loop to find their greatest common divisor (GCD) using the Euclidean algorithm.\n",
    "#Input: a = 48, b = 18\n",
    "#Output: GCD = 6\n",
    "\n",
    "divisor= int(input(\"enter the divisor\"))\n",
    "dividend= int(input(\"enter the dividend\"))\n",
    "#check from 2 to min(a,b)+1\n",
    "factors = []\n",
    "iteration=0\n",
    "for i in range (2, divisor+1):\n",
    "    if divisor % i == 0 and dividend % i == 0:\n",
    "        factors.append(i)\n",
    "    iteration+=1\n",
    "print(\"GCD =\" , max(factors))      \n",
    "print(\"iteraions = :\", iteration)  \n",
    "\n"
   ]
  },
  {
   "cell_type": "code",
   "execution_count": null,
   "metadata": {},
   "outputs": [
    {
     "name": "stdout",
     "output_type": "stream",
     "text": [
      "[2, 3, 6]\n",
      "GCD = 6\n",
      "Iterations -  47\n"
     ]
    }
   ],
   "source": [
    "#while loop\n",
    "divisor = int(input('Enter the divisor:'))\n",
    "dividend = int(input('Enter the dividend:'))\n",
    "\n",
    "factors = []\n",
    "iterations = 0\n",
    "i = 2\n",
    "while i <= divisor: #\n",
    "  if divisor % i ==0 and dividend % i ==0:\n",
    "    factors.append(i)\n",
    "  iterations+=1\n",
    "  i+=1\n",
    "\n",
    "print(factors)\n",
    "print(\"GCD =\",max(factors))\n",
    "print(\"Iterations - \",iterations)"
   ]
  },
  {
   "cell_type": "code",
   "execution_count": 19,
   "metadata": {},
   "outputs": [
    {
     "name": "stdout",
     "output_type": "stream",
     "text": [
      "6\n",
      "Iterations -  42\n"
     ]
    }
   ],
   "source": [
    "#ANOTHER SOLUTION\n",
    "#Number of iterations are reduced\n",
    "#more optimized solution\n",
    "#now we will check from the max number .. reverse loop \n",
    "divisor = int(input('Enter the divisor:'))\n",
    "dividend = int(input('Enter the dividend:'))\n",
    "iterations = 0\n",
    "for i in range(divisor,1,-1):\n",
    "    if divisor % i ==0 and dividend % i ==0:\n",
    "        print(i)\n",
    "        break\n",
    "    iterations += 1\n",
    "\n",
    "print(\"Iterations - \",iterations)\n"
   ]
  },
  {
   "cell_type": "code",
   "execution_count": 20,
   "metadata": {},
   "outputs": [
    {
     "name": "stdout",
     "output_type": "stream",
     "text": [
      "6\n",
      "Iterations -  42\n"
     ]
    }
   ],
   "source": [
    "#while loop\n",
    "divisor= int(input(\"enter the divisor\"))\n",
    "dividend= int(input(\"enter the dividend\"))\n",
    "iterations = 0\n",
    "i = divisor\n",
    "while i>1:  \n",
    "    if divisor % i ==0 and dividend % i ==0:\n",
    "        print(i)\n",
    "        break\n",
    "    iterations += 1\n",
    "    i -= 1\n",
    "print(\"Iterations - \",iterations)"
   ]
  },
  {
   "cell_type": "code",
   "execution_count": 4,
   "metadata": {},
   "outputs": [
    {
     "data": {
      "text/plain": [
       "[18, 17, 16, 15, 14, 13, 12, 11, 10, 9, 8, 7, 6, 5, 4, 3, 2]"
      ]
     },
     "execution_count": 4,
     "metadata": {},
     "output_type": "execute_result"
    }
   ],
   "source": [
    "list(range(18,1,-1))"
   ]
  },
  {
   "cell_type": "code",
   "execution_count": 21,
   "metadata": {},
   "outputs": [
    {
     "name": "stdout",
     "output_type": "stream",
     "text": [
      "GCD =  6\n",
      "Iterations -  3\n"
     ]
    }
   ],
   "source": [
    "#another method\n",
    "divisor = int(input('Enter the divisor:'))\n",
    "dividend = int(input('Enter the dividend:'))\n",
    "remainder = dividend% divisor\n",
    "\n",
    "iterations = 0\n",
    "while remainder != 0:\n",
    "  dividend = divisor\n",
    "  divisor = remainder\n",
    "  remainder = dividend % divisor\n",
    "  iterations+=1\n",
    "\n",
    "print(\"GCD = \",divisor)\n",
    "print(\"Iterations - \",iterations)\n",
    "\n",
    "# iterations :\n",
    "# Input :\n",
    "# Divisor : 18\n",
    "# Dividend : 48\n",
    "# remainder : 12\n",
    "\n",
    "# Iteration 1:\n",
    "# While remainder !=0 : True | Remainder : 12\n",
    "# Dividend = 18\n",
    "# Divisor = 12\n",
    "# remainder = 18 % 12 = 6\n",
    "\n",
    "# Iteration 2:\n",
    "# While remainder !=0 : True | Remainder : 6\n",
    "# Dividend = 12\n",
    "# Divisor = 6\n",
    "# Remainder  = 12 % 6 = 0\n",
    "\n",
    "# # Iteration 3: --> Not run\n",
    "\n",
    "# Last divisor is the answer-->"
   ]
  },
  {
   "cell_type": "code",
   "execution_count": null,
   "metadata": {},
   "outputs": [
    {
     "name": "stdout",
     "output_type": "stream",
     "text": [
      "[0, 1, 2, 3, 6, 11, 20, 37, 68, 125, 230]\n"
     ]
    }
   ],
   "source": [
    "#54)'''\n",
    "#The Enhanced Fibonacci series is a sequence of numbers where each number is\n",
    "#the sum of the three preceding ones, starting from 0, 1 & 2.\n",
    "#The series begins as follows:f\n",
    "\n",
    "# Fibonacci Series : 0, 1, 2, 3, 6, 11, 20 ,...\n",
    "# input = 0 , fibonacci_output = [0]\n",
    "# input = 1 , fibonacci_output = [0,1]\n",
    "# input = 2 , fibonacci_output = [0,1,2]\n",
    "# input = 3 , fibonacci_output = [0,1,2,3]\n",
    "# input = 4 , fibonacci_output = [0,1,2,3,6]\n",
    "# input = 5 , fibonacci_output = [0,1,2,3,6,11] # till 5th index print the Enhanced fibonacci series\n",
    "\n",
    "_index = int(input(\"enter the index till which you want fibonacci series\"))\n",
    "_output= [0,1,2] #set of first three numbers \n",
    "if _index == 0 or _index ==1 or _index ==2 :\n",
    "    print(_output[:_index+1])       \n",
    "else:\n",
    "    for i in range (3,_index+1):\n",
    "        next_value = _output[-1]+_output[-2]+ _output[-3]\n",
    "        _output.append(next_value)\n",
    "    print(_output)\n"
   ]
  },
  {
   "cell_type": "code",
   "execution_count": 38,
   "metadata": {},
   "outputs": [
    {
     "data": {
      "text/plain": [
       "[0, 1]"
      ]
     },
     "execution_count": 38,
     "metadata": {},
     "output_type": "execute_result"
    }
   ],
   "source": [
    "#test\n",
    "_index = 1\n",
    "_output=[0,1,2]\n",
    "_output[:_index+1]"
   ]
  },
  {
   "cell_type": "code",
   "execution_count": 22,
   "metadata": {},
   "outputs": [
    {
     "name": "stdout",
     "output_type": "stream",
     "text": [
      "10 5\n"
     ]
    }
   ],
   "source": [
    "#55) Swap the value\n",
    "a=5\n",
    "b=10\n",
    "c=a\n",
    "a=b\n",
    "b=c\n",
    "print(a,b)\n"
   ]
  },
  {
   "cell_type": "code",
   "execution_count": 24,
   "metadata": {},
   "outputs": [
    {
     "name": "stdout",
     "output_type": "stream",
     "text": [
      "a= 10 b= 5\n"
     ]
    }
   ],
   "source": [
    "#56) swap the value without using the third variable\n",
    "a=5\n",
    "b=10\n",
    "a,b=b,a\n",
    "print(\"a=\",a,\"b=\",b)"
   ]
  },
  {
   "cell_type": "code",
   "execution_count": 44,
   "metadata": {},
   "outputs": [
    {
     "name": "stdout",
     "output_type": "stream",
     "text": [
      "Apples need restocking\n",
      "Oranges need restocking\n"
     ]
    }
   ],
   "source": [
    "#57)Inventory Restocking Alert\n",
    "\n",
    "#Case Study: Inventory Management with Dynamic Restocking and Sales Prediction\n",
    "#Scenario:A retail shop manages its product inventory. Each product has a stock quantity and a restock threshold.\n",
    "#The goal is to simulate stock depletion over several days and generate restock alerts.\n",
    "\n",
    "#Problem:\n",
    "#Write a Python program to check the stock levels of products and generate a list of those that need restocking.\n",
    "#A product should be flagged if its stock falls below its restock threshold.\n",
    "\n",
    "#Requirements:\n",
    "\n",
    "#Use a for loop to iterate over the inventory.\n",
    "#Use an if statement to check if the product’s stock is below the restock threshold.\n",
    "#Print the list of products that need restocking.\n",
    "#Example:\n",
    "\n",
    "#inventory = [\n",
    "   #{\"product\": \"Apples\", \"quantity\": 8, \"restock_threshold\": 10},\n",
    "   #{\"product\": \"Bananas\", \"quantity\": 25, \"restock_threshold\": 20},\n",
    "   #{\"product\": \"Oranges\", \"quantity\": 5, \"restock_threshold\": 10}]\n",
    "\n",
    "#Expected Output:\n",
    "\n",
    "#Apples need restocking.\n",
    "#Oranges need restocking.\n",
    "\n",
    "inventory = [\n",
    "   {\"product\": \"Apples\", \"quantity\": 8, \"restock_threshold\": 10},\n",
    "   {\"product\": \"Bananas\", \"quantity\": 25, \"restock_threshold\": 20},\n",
    "   {\"product\": \"Oranges\", \"quantity\": 5, \"restock_threshold\": 10}]\n",
    "for i in inventory:\n",
    "    if i[\"restock_threshold\"] > i[\"quantity\"]:\n",
    "        print(i[\"product\"],\"need restocking\")\n",
    "        "
   ]
  },
  {
   "cell_type": "code",
   "execution_count": null,
   "metadata": {},
   "outputs": [
    {
     "name": "stdout",
     "output_type": "stream",
     "text": [
      "login successful\n"
     ]
    }
   ],
   "source": [
    "\"\"\"58)User Authentication System with Limited Login Attempts\n",
    "Problem:\n",
    "Design a user authentication system where a user has a maximum of 3 login attempts.\n",
    "The system should prompt the user to input their username and password.\n",
    "If the credentials are correct, display a success message and exit the loop.\n",
    "If the credentials are incorrect, decrement the number of remaining attempts and inform the user.\n",
    "After 3 failed attempts, the system should lock the user out.\n",
    "\n",
    "Requirements:\n",
    "\n",
    "Use a while loop to allow the user to attempt login up to 3 times.\n",
    "Use an if-else condition to check if the username and password are correct.\n",
    "If the correct credentials are entered, break the loop and display a success message.\n",
    "After 3 incorrect attempts, display a message indicating the account is locked.\n",
    "\n",
    "Expected Output (sample):\n",
    "\n",
    "Enter username: user123\n",
    "Enter password: wrongpass\n",
    "Incorrect credentials. You have 2 attempts remaining.\n",
    "\n",
    "Enter username: user123\n",
    "Enter password: wrongpass\n",
    "Incorrect credentials. You have 1 attempt remaining.\n",
    "\n",
    "Enter username: user123\n",
    "Enter password: wrongpass\n",
    "Account locked due to too many failed login attempts.\"\"\"\n",
    "\n",
    "\n",
    "correct_user_name = \"user123\"\n",
    "correct_password = \"pass123\"\n",
    "total_attempts = 3\n",
    "while total_attempts > 0:\n",
    "    user_name = input(\"enter the user name\")\n",
    "    password = input(\"enter the password\")\n",
    "    if user_name == correct_user_name and password == correct_password:\n",
    "        print(\"login successful\")\n",
    "        break\n",
    "    else:\n",
    "        total_attempts-=1\n",
    "        if total_attempts !=0:\n",
    "            print (f\"Incorrect credentials. You have {total_attempts} attempts remaining\")\n",
    "        else:    \n",
    "            print (\"Account locked due to too many failed login attempts.\"\"\")\n",
    "            \n",
    "       "
   ]
  },
  {
   "cell_type": "code",
   "execution_count": null,
   "metadata": {},
   "outputs": [
    {
     "name": "stdout",
     "output_type": "stream",
     "text": [
      "100 50 25 76 38 19 58 29 88 44 22 11 34 17 52 26 13 40 20 10 5 16 8 4 2 1 "
     ]
    }
   ],
   "source": [
    "\"\"\"59)Problem:\n",
    "The Collatz Conjecture is a sequence that starts with any positive integer n.\n",
    "Each subsequent term is obtained from the previous term as follows:\n",
    "\n",
    "If the previous term is even, the next term is one half of the previous term.\n",
    "If the previous term is odd, the next term is 3 times the previous term plus 1.\n",
    "The conjecture is that no matter what value of n, the sequence will eventually reach 1.\n",
    "Write a Python program that takes a positive integer n as input and prints the Collatz sequence starting from n until it reaches 1.\n",
    "\n",
    "Requirements:\n",
    "\n",
    "Use a while loop to generate and print the Collatz sequence.\n",
    "Use if-else conditions to apply the Collatz rules.\n",
    "\n",
    "Expected Output (sample):\n",
    "\n",
    "Enter a positive integer: 6\n",
    "6 -> 3 -> 10 -> 5 -> 16 -> 8 -> 4 -> 2 -> 1\n",
    "\n",
    "Hint : Use print(n, end = '->') in the logic to get the output\"\"\"\n",
    "\n",
    "\n",
    "positive_num = int(input(\"enter a number\"))\n",
    "while positive_num>=1:\n",
    "    print(positive_num, end = \" \")\n",
    "    if positive_num==1:\n",
    "        break\n",
    "    elif positive_num%2==0:\n",
    "        positive_num = positive_num//2 #we van take divide also but it will give float value hence i used floor opeartor\n",
    "    else: \n",
    "        positive_num=positive_num*3 + 1 \n",
    "       \n",
    "\n"
   ]
  },
  {
   "cell_type": "code",
   "execution_count": null,
   "metadata": {},
   "outputs": [
    {
     "name": "stdout",
     "output_type": "stream",
     "text": [
      "a_str 10\n",
      "a_str 1\n",
      "1\n"
     ]
    }
   ],
   "source": [
    "#60) write a program to add the digits of a number till it reached to a single digit.\n",
    "a = int(input())\n",
    "a_str = str(a)\n",
    "while len (a_str)>1:\n",
    "    sum=0\n",
    "    for i in a_str:\n",
    "        i = int(i)\n",
    "        sum+=i\n",
    "    a_str = str(sum)\n",
    "    print('a_str', a_str)\n",
    "print(int(a_str))   \n",
    "\n",
    "#length =4>1 true\n",
    "#sum = 10 2>1\n",
    "#sum =1 "
   ]
  },
  {
   "cell_type": "code",
   "execution_count": 2,
   "metadata": {},
   "outputs": [
    {
     "name": "stdout",
     "output_type": "stream",
     "text": [
      "cac\n"
     ]
    }
   ],
   "source": [
    "#61) closest palindrome of given string\n",
    "#cat -- cac--3 elements--reverse and append\n",
    "#madan -- madam --5 elements-\n",
    "#rade---raar--4 elements\n",
    "\n",
    "word = input()\n",
    "n = len(word)\n",
    "if n%2!=0: #for odd length\n",
    "    print(word[:n//2]+ word[n//2::-1])\n",
    "else: #for even length\n",
    "    print(word[:n//2]+ word[n//2-1::-1])    \n",
    "\n",
    "#####################\n",
    "#word = cat length =3\n",
    "#n=3 3//2=1\n",
    "# [:1]=c\n",
    "#[1::-1]= index1:0 index:backward direction = [a:c]=ac\n",
    "#c+ac=cac\n",
    "\n",
    "#madan = len = 5 --5//2=2\n",
    "#[:2]= ma\n",
    "#[2::-1]=dam"
   ]
  },
  {
   "cell_type": "code",
   "execution_count": 1,
   "metadata": {},
   "outputs": [],
   "source": [
    "#62) factorial of a number using function\n",
    "def factorial(n):\n",
    "  _fact = 1\n",
    "  for i in range(1,n+1):\n",
    "    _fact*=i\n",
    "  return _fact"
   ]
  },
  {
   "cell_type": "code",
   "execution_count": 3,
   "metadata": {},
   "outputs": [
    {
     "data": {
      "text/plain": [
       "6"
      ]
     },
     "execution_count": 3,
     "metadata": {},
     "output_type": "execute_result"
    }
   ],
   "source": [
    "factorial(n=5) # Correct\n",
    "factorial(n = 3) # Correct"
   ]
  },
  {
   "cell_type": "code",
   "execution_count": null,
   "metadata": {},
   "outputs": [
    {
     "data": {
      "text/plain": [
       "20"
      ]
     },
     "execution_count": 5,
     "metadata": {},
     "output_type": "execute_result"
    }
   ],
   "source": [
    "#63 Permutation or Combination\n",
    "# Permutation : n!/(n-r)!\n",
    "n = int(input())\n",
    "r = int(input())\n",
    "\n",
    "int(factorial(n)/ factorial(n-r))"
   ]
  },
  {
   "cell_type": "code",
   "execution_count": 6,
   "metadata": {},
   "outputs": [
    {
     "name": "stdout",
     "output_type": "stream",
     "text": [
      "1.7083333333333335\n"
     ]
    }
   ],
   "source": [
    "#64# 1 + 1/2! + 1/3! + 1/4! ...1/n!\n",
    "\n",
    "n = int(input())\n",
    "_total = 0\n",
    "for i in range(1,n+1):\n",
    "  _total += 1/factorial(i)\n",
    "print(_total)"
   ]
  },
  {
   "cell_type": "code",
   "execution_count": 2,
   "metadata": {},
   "outputs": [],
   "source": [
    "#65# Define a function named fahrenheit_to_celsius that converts Fahrenheit to Celsius and returns the result.\n",
    "# celsius = (fahrenheit - 32) * 5 / 9\n",
    "\n",
    "def fahrenheit_to_celsius (f):\n",
    "    celsius = (f- 32) * 5 / 9\n",
    "    return(celsius)    \n"
   ]
  },
  {
   "cell_type": "code",
   "execution_count": 5,
   "metadata": {},
   "outputs": [
    {
     "name": "stdout",
     "output_type": "stream",
     "text": [
      "-1.1111111111111112\n"
     ]
    }
   ],
   "source": [
    "f=30\n",
    "f1=fahrenheit_to_celsius(f)\n",
    "print(f1)"
   ]
  },
  {
   "cell_type": "code",
   "execution_count": null,
   "metadata": {},
   "outputs": [
    {
     "data": {
      "text/plain": [
       "50.24"
      ]
     },
     "execution_count": 11,
     "metadata": {},
     "output_type": "execute_result"
    }
   ],
   "source": [
    "#66 Create a function named calculate_area that takes the radius of a circle and a pi value,\n",
    "# with a default  pi value of 3.14, and returns the area.\n",
    "# Defining the function\n",
    "\n",
    "def calculate_area (r, pi=3.14):\n",
    "    area= pi*(r**2)\n",
    "    return area\n",
    "calculate_area(4)    "
   ]
  },
  {
   "cell_type": "code",
   "execution_count": 13,
   "metadata": {},
   "outputs": [
    {
     "name": "stdout",
     "output_type": "stream",
     "text": [
      "50.24\n"
     ]
    }
   ],
   "source": [
    "area_=calculate_area(r=4)\n",
    "print(area_)\n"
   ]
  },
  {
   "cell_type": "code",
   "execution_count": 1,
   "metadata": {},
   "outputs": [
    {
     "data": {
      "text/plain": [
       "{'c': 2, 'u': 2, 's': 1, 't': 2, 'o': 2, 'm': 1, 'f': 1, 'n': 2, 'i': 1}"
      ]
     },
     "execution_count": 1,
     "metadata": {},
     "output_type": "execute_result"
    }
   ],
   "source": [
    "#67Write a program which would calculate the count of each unique characters in a words and returns an appropriate dictionary. \n",
    "# Use a custom function to achieve this.\n",
    "def count_letters (word):\n",
    "    letter_count ={} \n",
    "    for i in word:\n",
    "        if i .isalpha():\n",
    "            i=i.lower()\n",
    "            letter_count[i]=letter_count.get(i,0)+1\n",
    "    return letter_count        \n",
    "\n",
    "word = \"Custom Function\"\n",
    "count_letters(word)"
   ]
  },
  {
   "cell_type": "code",
   "execution_count": 5,
   "metadata": {},
   "outputs": [
    {
     "name": "stdout",
     "output_type": "stream",
     "text": [
      "!dlrow ,olleH\n"
     ]
    }
   ],
   "source": [
    "#68 Write a function which takes a string arguments and returns the reversed string to the user.\n",
    "# my_string = \"Hello, world!\"\n",
    "\n",
    "def rev_str(my_string):\n",
    "    str_rev=\"\"\n",
    "    for i in my_string:\n",
    "        str_rev= i+str_rev\n",
    "    return str_rev\n",
    "my_string = \"Hello, world!\"  \n",
    "reversed_str= rev_str(my_string)\n",
    "print(reversed_str)"
   ]
  },
  {
   "cell_type": "code",
   "execution_count": 4,
   "metadata": {},
   "outputs": [
    {
     "name": "stdout",
     "output_type": "stream",
     "text": [
      "!dlrow ,olleH\n"
     ]
    }
   ],
   "source": [
    "def rev_str(my_string):\n",
    "    str_rev= my_string[::-1]\n",
    "    return str_rev\n",
    "my_string = \"Hello, world!\"  \n",
    "reversed_str= rev_str(my_string)\n",
    "print(reversed_str)"
   ]
  },
  {
   "cell_type": "code",
   "execution_count": 9,
   "metadata": {},
   "outputs": [
    {
     "data": {
      "text/plain": [
       "'Hello, ram! You are 21 years old.'"
      ]
     },
     "execution_count": 9,
     "metadata": {},
     "output_type": "execute_result"
    }
   ],
   "source": [
    "def greet(name, age):\n",
    "   return \"Hello, \" + name + \"! You are \" + age + \" years old.\"\n",
    "greet(\"ram\", \"21\")"
   ]
  },
  {
   "cell_type": "code",
   "execution_count": 19,
   "metadata": {},
   "outputs": [
    {
     "data": {
      "text/plain": [
       "'you burnt 200 in the running activity'"
      ]
     },
     "execution_count": 19,
     "metadata": {},
     "output_type": "execute_result"
    }
   ],
   "source": [
    "#69🏋️‍♀️💻📱: You are developing a fitness app and need a function to calculate calories burned. Users input workout duration and activity type (🏃‍♀️,🏊‍♂️,🚴‍♂️), \n",
    "# and the function calculates calories burned.📝👨‍💻: Write a function that uses a while loop to calculate calories burned. \n",
    "# The function takes workout duration and activity type as input and calculates calories burned based on the duration and activity type.\n",
    "#Refer to following chart: Running- Burns 10 calories per minute Swimming- Burns 8 calories per minute Cycling- Burn 6 calories per minute\n",
    "\n",
    "def calc_calories_burned(duration_mins, activity):\n",
    "    burnt_calories = 0\n",
    "    while duration_mins>0:\n",
    "        if activity.lower()==\"running\":\n",
    "            burnt_calories+=10\n",
    "        elif activity.lower()==\"swimming\":   \n",
    "            burnt_calories+=8\n",
    "        elif activity.lower()==\"cycling\":   \n",
    "            burnt_calories+=6\n",
    "        duration_mins-=1\n",
    "    return f\"you burnt {burnt_calories} in the {activity} activity\"\n",
    "calc_calories_burned(20,\"running\")          \n",
    "\n"
   ]
  },
  {
   "cell_type": "code",
   "execution_count": null,
   "metadata": {},
   "outputs": [
    {
     "data": {
      "text/plain": [
       "24"
      ]
     },
     "execution_count": 24,
     "metadata": {},
     "output_type": "execute_result"
    }
   ],
   "source": [
    "#70: Total of numbers using args\n",
    "def add(*a): #a is tuple here\n",
    "    total=0\n",
    "    for i in a:\n",
    "        total += i\n",
    "    return total\n",
    "add(5,6,5,8)     "
   ]
  },
  {
   "cell_type": "code",
   "execution_count": 27,
   "metadata": {},
   "outputs": [
    {
     "data": {
      "text/plain": [
       "0"
      ]
     },
     "execution_count": 27,
     "metadata": {},
     "output_type": "execute_result"
    }
   ],
   "source": [
    "def add(**b): #a is tuple here\n",
    "    total=0\n",
    "    for i in b:\n",
    "        total += i\n",
    "    return total\n",
    "add()     "
   ]
  },
  {
   "cell_type": "code",
   "execution_count": null,
   "metadata": {},
   "outputs": [
    {
     "data": {
      "text/plain": [
       "120"
      ]
     },
     "execution_count": 6,
     "metadata": {},
     "output_type": "execute_result"
    }
   ],
   "source": [
    "#71 Write a Python function called calculate_factorial that takes a single integer argument n and\n",
    "#returns the factorial of that number. The factorial of a non-negative integer n is the product of\n",
    "#all positive integers less than or equal to n. For example, the factorial of 5 (denoted as 5!) is\n",
    "#5 * 4 * 3 * 2 * 1 = 120.\n",
    "#If n is 0, the factorial should return 1, as 0! is defined to be 1.\n",
    "def calculate_factorial (n):\n",
    "    fact=1\n",
    "    for i in range(1,n+1):\n",
    "        fact=fact*i\n",
    "    return fact\n",
    "calculate_factorial(n=5)"
   ]
  },
  {
   "cell_type": "code",
   "execution_count": null,
   "metadata": {},
   "outputs": [],
   "source": [
    "def calc_fact(n):\n",
    "    if n>=0:\n",
    "        fact = 1\n",
    "        for i in range (1,n+1):\n",
    "            fact*=i\n",
    "        return fact    \n",
    "    else:\n",
    "        print(\"enter non negative value\")             "
   ]
  },
  {
   "cell_type": "code",
   "execution_count": null,
   "metadata": {},
   "outputs": [
    {
     "data": {
      "text/plain": [
       "120"
      ]
     },
     "execution_count": 12,
     "metadata": {},
     "output_type": "execute_result"
    }
   ],
   "source": [
    "#calling the function\n",
    "num = int(input(\"enter a number\"))\n",
    "calc_fact(n=num)"
   ]
  },
  {
   "cell_type": "code",
   "execution_count": 13,
   "metadata": {},
   "outputs": [
    {
     "data": {
      "text/plain": [
       "1.72"
      ]
     },
     "execution_count": 13,
     "metadata": {},
     "output_type": "execute_result"
    }
   ],
   "source": [
    "\n",
    "#72 Write a Python function called calculate_series_sum that\n",
    "#calculates the sum of the following series up to n terms:\n",
    "# 1 + 1/2! + 1/3! + 1/4!....+ 1/n!\n",
    "#Hint : Use calculate_factorial function create above\n",
    "\n",
    "def calculate_series(n):\n",
    "    _total = 0\n",
    "    for i in range(1,n+1):\n",
    "        _total += 1/calculate_factorial(n = i)\n",
    "    return round(_total,2)\n",
    "calculate_series(n=5)"
   ]
  },
  {
   "cell_type": "code",
   "execution_count": 18,
   "metadata": {},
   "outputs": [
    {
     "data": {
      "text/plain": [
       "10"
      ]
     },
     "execution_count": 18,
     "metadata": {},
     "output_type": "execute_result"
    }
   ],
   "source": [
    "# Question 73 :\n",
    "'''\n",
    "Calculate Permutation n , r = n!/(n-r)!\n",
    "and Combination n ,r = n!/(n-r)!/r!\n",
    "Taking n, r as an input '''\n",
    "\n",
    "\n",
    "def permutation(n,r):\n",
    "  return round(calculate_factorial(n)/calculate_factorial(n-r))\n",
    "\n",
    "def combination(n,r):\n",
    "  return round(calculate_factorial(n)/calculate_factorial(n-r)/calculate_factorial(r))\n",
    "\n",
    "permutation(n = 5,r= 2)\n",
    "combination(n = 5,r= 2)\n"
   ]
  },
  {
   "cell_type": "code",
   "execution_count": null,
   "metadata": {},
   "outputs": [
    {
     "data": {
      "text/plain": [
       "[1, 4, 9]"
      ]
     },
     "execution_count": 27,
     "metadata": {},
     "output_type": "execute_result"
    }
   ],
   "source": [
    "#74 Write a function list_pow takes in input as list and power as n,\n",
    "#output as list and each element raised to power n\n",
    "#input : [1,2,3,4] n = 2, Output: [1,4,9,16] # use fixed argument\n",
    "#input : 2,3,4,5,6 , n = 2 , Output :[4,9,16,25,36] # use Args\n",
    "\n",
    "def list_pow(n,*a):\n",
    "    out = []\n",
    "    for i in a:\n",
    "        out.append(i**n)\n",
    "    return(out)    \n",
    "\n",
    "list_pow(1,2,3,n=2)    "
   ]
  },
  {
   "cell_type": "code",
   "execution_count": null,
   "metadata": {},
   "outputs": [
    {
     "name": "stdout",
     "output_type": "stream",
     "text": [
      "11\n",
      "13\n",
      "17\n",
      "19\n"
     ]
    }
   ],
   "source": [
    "#75 Write a Python function called print_primes_between that prints all prime numbers between two integers a and b (inclusive).\n",
    "#A prime number is a positive integer greater than 1 that has no positive integer divisors other than 1 and itself.\n",
    "#print_primes_between(10, 20) should print:\n",
    "#11,13,17,19\n",
    "\n",
    "def check_prime(n):\n",
    "    prime = True #lets sconsider prime is true means number is prime\n",
    "    for i in range (2,n):\n",
    "        if n%i == 0:\n",
    "            prime = False\n",
    "            break\n",
    "    return prime   \n",
    "\n",
    "def print_primes_between (a,b):\n",
    "    for i in range (a,b+1):\n",
    "        if check_prime(n=i)== True:\n",
    "            print(i)\n",
    "print_primes_between(10,20)   \n",
    "\n"
   ]
  },
  {
   "cell_type": "code",
   "execution_count": 55,
   "metadata": {},
   "outputs": [
    {
     "name": "stdout",
     "output_type": "stream",
     "text": [
      "(3, 5)\n",
      "(5, 7)\n",
      "(11, 13)\n",
      "(17, 19)\n",
      "(29, 31)\n",
      "(41, 43)\n",
      "(59, 61)\n"
     ]
    }
   ],
   "source": [
    "#76 Write a program function to print twin primes less than or equal to 1000.\n",
    "#If two consecutive odd numbers are both prime then they are known as twin primes\n",
    "#Twin Prime:\n",
    "#(3, 5)\n",
    "#(5, 7)\n",
    "#(11, 13)\n",
    "#(17, 19)\n",
    "\n",
    "def twin_prime(n):\n",
    "    for i in range (2,n-1):\n",
    "        if check_prime(i) == True and check_prime(i + 2) == True:\n",
    "            print((i,i+2))\n",
    "twin_prime(n=70)            "
   ]
  },
  {
   "cell_type": "code",
   "execution_count": 58,
   "metadata": {},
   "outputs": [
    {
     "data": {
      "text/plain": [
       "[1, 4, 6, 4, 1]"
      ]
     },
     "execution_count": 58,
     "metadata": {},
     "output_type": "execute_result"
    }
   ],
   "source": [
    "#77 '''(Hard) Write a  Python function that prints out the first n rows of Pascal's triangle.\n",
    "\n",
    "'''Note : Pascal's triangle is an arithmetic and geometric figure first imagined by Blaise Pascal.\n",
    "Input - n : 6\n",
    "Output -\n",
    "\n",
    "[1]\n",
    "[1, 1]\n",
    "[1, 2, 1]\n",
    "[1, 3, 3, 1]\n",
    "[1, 4, 6, 4, 1]\n",
    "[1, 5, 10, 10, 5, 1]\n",
    "\n",
    "'''\n",
    "\n",
    "def pascal_next_line(l):\n",
    "  out = [1]\n",
    "  for i in range(len(l)-1):\n",
    "    val = l[i] + l[i+1]\n",
    "    out.append(val)\n",
    "  out.append(1)\n",
    "  return out\n",
    "pascal_next_line(l = [1,3,3,1])\n",
    "\n",
    "# l = [1,3,3,1]\n",
    "# out = [1]\n",
    "\n",
    "# i --> range(4-1) --> range(3) --> 0,1,2\n",
    "\n",
    "# Iteration 1 : i = 0\n",
    "# val = l[0] + l[1] --> 1+3 --> 4\n",
    "# out.append(val) --> out = [1,4]\n",
    "\n",
    "# Iteration 2 : i = 1\n",
    "# val = l[1] + l[2] --> 3 + 3 --> 6\n",
    "# out.append(val) --> [1,4,6]\n",
    "\n",
    "# Iteration 3 : i = 2\n",
    "# val = l[2] + l[3] --> 3 + 1 -->4\n",
    "# out.append(val) --> [1,4,6,4]\n",
    "\n",
    "# Iteration 4 : i = 3\n",
    "# val = l[3] + l[4] --> 1 --> Index out of range\n",
    "# out.append(val) --> [1,4,6,4]\n",
    "\n",
    "# out.append(1)\n",
    "# out = [1,4,6,4,1]"
   ]
  },
  {
   "cell_type": "code",
   "execution_count": 59,
   "metadata": {},
   "outputs": [
    {
     "name": "stdout",
     "output_type": "stream",
     "text": [
      "[1]\n",
      "[1, 1]\n",
      "[1, 2, 1]\n",
      "[1, 3, 3, 1]\n",
      "[1, 4, 6, 4, 1]\n"
     ]
    }
   ],
   "source": [
    "depth = int(input()) #6\n",
    "line = [1]\n",
    "for i in range(1,depth+1): # range(1,7) --> 1 to 6\n",
    "  print(line) # [1]\n",
    "  line = pascal_next_line(l= line) # pascal_next_line(l= [1]) --> [1,1]\n"
   ]
  },
  {
   "cell_type": "code",
   "execution_count": 64,
   "metadata": {},
   "outputs": [
    {
     "data": {
      "text/plain": [
       "'Female'"
      ]
     },
     "execution_count": 64,
     "metadata": {},
     "output_type": "execute_result"
    }
   ],
   "source": [
    "#78) Get the gender of a person\n",
    "def gender(name):\n",
    "    if \"Mr.\" in name:\n",
    "        return \"Male\"   \n",
    "    else:\n",
    "        return \"Female\"\n",
    "gender(\"Ms Joshi\")    "
   ]
  },
  {
   "cell_type": "markdown",
   "metadata": {},
   "source": []
  },
  {
   "cell_type": "code",
   "execution_count": 65,
   "metadata": {},
   "outputs": [
    {
     "data": {
      "text/plain": [
       "{'Mrs. Joshi': 'Female'}"
      ]
     },
     "execution_count": 65,
     "metadata": {},
     "output_type": "execute_result"
    }
   ],
   "source": [
    "def gender(name):\n",
    "    if \"Mr.\" in name:\n",
    "        return {name :\"Male\"}   \n",
    "    else:\n",
    "        return {name :\"Female\"}\n",
    "gender(\"Mrs. Joshi\")    "
   ]
  },
  {
   "cell_type": "code",
   "execution_count": 67,
   "metadata": {},
   "outputs": [
    {
     "data": {
      "text/plain": [
       "[{'Mr. John': 'Male'},\n",
       " {'Mrs. Tara': 'Female'},\n",
       " {'Ms Tanya': 'Female'},\n",
       " {'Mrs. Riva': 'Female'}]"
      ]
     },
     "execution_count": 67,
     "metadata": {},
     "output_type": "execute_result"
    }
   ],
   "source": [
    "def gender(name):\n",
    "    if \"Mr.\" in name:\n",
    "        return {name :\"Male\"}   \n",
    "    else:\n",
    "        return {name :\"Female\"}\n",
    "names = [\"Mr. John\", \"Mrs. Tara\", \"Ms Tanya\", \"Mrs. Riva\"]\n",
    "list(map(gender,names))    \n"
   ]
  },
  {
   "cell_type": "code",
   "execution_count": 69,
   "metadata": {},
   "outputs": [
    {
     "data": {
      "text/plain": [
       "[list, int, tuple, str, float, set, dict, bool]"
      ]
     },
     "execution_count": 69,
     "metadata": {},
     "output_type": "execute_result"
    }
   ],
   "source": [
    "#79) # Output as type of all elements\n",
    "#ex = [[2,3],(4),(5,),'Data',6.7,{5,6},{7:8,9:10}, True]\n",
    "# output : [list, int,tup, str,float,set,dict,bool]\n",
    "\n",
    "def get_data_type(x):\n",
    "    return type(x)\n",
    "list(map(get_data_type,[[2,3],(4),(5,),'Data',6.7,{5,6},{7:8,9:10}, True]))"
   ]
  },
  {
   "cell_type": "code",
   "execution_count": 74,
   "metadata": {},
   "outputs": [
    {
     "name": "stdout",
     "output_type": "stream",
     "text": [
      "[<class 'list'>, <class 'int'>, <class 'tuple'>, <class 'str'>, <class 'float'>, <class 'set'>, <class 'dict'>, <class 'bool'>]\n"
     ]
    }
   ],
   "source": [
    "#another solution\n",
    "x_type = [[2,3],(4),(5,),'Data',6.7,{5,6},{7:8,9:10}, True]\n",
    "output = []\n",
    "def get_type(x_type):\n",
    "    return type(x_type)\n",
    "\n",
    "for i in x_type:\n",
    "        output.append(get_type(i))\n",
    "print(output)        "
   ]
  },
  {
   "cell_type": "code",
   "execution_count": 72,
   "metadata": {},
   "outputs": [
    {
     "data": {
      "text/plain": [
       "bool"
      ]
     },
     "execution_count": 72,
     "metadata": {},
     "output_type": "execute_result"
    }
   ],
   "source": [
    "get_data_type(True)"
   ]
  },
  {
   "cell_type": "code",
   "execution_count": 73,
   "metadata": {},
   "outputs": [
    {
     "data": {
      "text/plain": [
       "float"
      ]
     },
     "execution_count": 73,
     "metadata": {},
     "output_type": "execute_result"
    }
   ],
   "source": [
    "get_type(1.5)"
   ]
  },
  {
   "cell_type": "code",
   "execution_count": 78,
   "metadata": {},
   "outputs": [
    {
     "data": {
      "text/plain": [
       "[list, int, tuple, str, float, set, dict, bool]"
      ]
     },
     "execution_count": 78,
     "metadata": {},
     "output_type": "execute_result"
    }
   ],
   "source": [
    "ex = [[2,3],(4),(5,),'Data',6.7,{5,6},{7:8,9:10}, True]\n",
    "list(map(type,ex))"
   ]
  },
  {
   "cell_type": "code",
   "execution_count": 77,
   "metadata": {},
   "outputs": [
    {
     "name": "stdout",
     "output_type": "stream",
     "text": [
      "[1, 3]\n"
     ]
    }
   ],
   "source": [
    "#80)# Storing comma separated input as list of items.\n",
    "n = eval(input('Enter the numbers:'))\n",
    "print(list(n)) # By default it will store as tuple\n",
    "# 3,4,5,6.7,True\n",
    "# [3, 4, 5, 6.7, True]"
   ]
  },
  {
   "cell_type": "code",
   "execution_count": 79,
   "metadata": {},
   "outputs": [
    {
     "name": "stdout",
     "output_type": "stream",
     "text": [
      "['1', '2', '3', '\"ram\"']\n"
     ]
    }
   ],
   "source": [
    "n1= input(\"enter the numbers\")\n",
    "print(n1.split(\",\"))"
   ]
  },
  {
   "cell_type": "code",
   "execution_count": 81,
   "metadata": {},
   "outputs": [
    {
     "name": "stdout",
     "output_type": "stream",
     "text": [
      "['1', '2', '3', '4']\n"
     ]
    },
    {
     "data": {
      "text/plain": [
       "[1, 2, 3, 4]"
      ]
     },
     "execution_count": 81,
     "metadata": {},
     "output_type": "execute_result"
    }
   ],
   "source": [
    "n1= input(\"enter the numbers\")\n",
    "print(n1.split(\",\"))\n",
    "list(map(int,n1.split(\",\")))"
   ]
  },
  {
   "cell_type": "code",
   "execution_count": 84,
   "metadata": {},
   "outputs": [
    {
     "data": {
      "text/plain": [
       "[2, 12]"
      ]
     },
     "execution_count": 84,
     "metadata": {},
     "output_type": "execute_result"
    }
   ],
   "source": [
    "#81) Mapping in case of dictionary\n",
    "#Multilply Key and value\n",
    "\n",
    "_dict = {1:2, 3:4}\n",
    "#print(_dict.items())\n",
    "def mul_dict(n):\n",
    "    return n[0]*n[1]\n",
    "list(map(mul_dict, _dict.items()))"
   ]
  },
  {
   "cell_type": "markdown",
   "metadata": {},
   "source": [
    "Mapping - function can't be an aggregation . Function must take one element as an input"
   ]
  },
  {
   "cell_type": "code",
   "execution_count": 97,
   "metadata": {},
   "outputs": [
    {
     "data": {
      "text/plain": [
       "[10000, 7000]"
      ]
     },
     "execution_count": 97,
     "metadata": {},
     "output_type": "execute_result"
    }
   ],
   "source": [
    "#82) Keep the employee > 5000\n",
    "def filter_emp(n):\n",
    "    if n > 5000:\n",
    "        return True\n",
    "    else:\n",
    "        return False\n",
    "exy = [1000,5000,10000,7000,2000]    \n",
    "list(filter(filter_emp, exy))"
   ]
  },
  {
   "cell_type": "code",
   "execution_count": 103,
   "metadata": {},
   "outputs": [
    {
     "data": {
      "text/plain": [
       "[1001, 1003, 1005, 1007, 1009, 1011, 1013, 1015, 1017, 1019]"
      ]
     },
     "execution_count": 103,
     "metadata": {},
     "output_type": "execute_result"
    }
   ],
   "source": [
    "#83) List of prime numbers between a & b \n",
    "def prime (n):\n",
    "    for i in range (2,n):\n",
    "        if n%i == 0:\n",
    "            return False\n",
    "        else:\n",
    "            return True\n",
    "list(filter(prime, range (1000,1020)))    \n"
   ]
  },
  {
   "cell_type": "code",
   "execution_count": null,
   "metadata": {},
   "outputs": [
    {
     "data": {
      "text/plain": [
       "[1, 2, 3, 4, 5, 6, 7, 8, 9, 153, 370, 371, 407]"
      ]
     },
     "execution_count": 106,
     "metadata": {},
     "output_type": "execute_result"
    }
   ],
   "source": [
    "#84) Armstrong numbers between a&b\n",
    "def armstrong_num(n):\n",
    "    n_str = str(n)\n",
    "    n_digits = len(n_str)\n",
    "    total = 0\n",
    "    for i in n_str:\n",
    "        total += int(i)**n_digits\n",
    "    return total == n    \n",
    "list(filter(armstrong_num, range (1,1000)))"
   ]
  },
  {
   "cell_type": "code",
   "execution_count": 112,
   "metadata": {},
   "outputs": [
    {
     "data": {
      "text/plain": [
       "['Ms.Siya', 'Mrs.Tara']"
      ]
     },
     "execution_count": 112,
     "metadata": {},
     "output_type": "execute_result"
    }
   ],
   "source": [
    "#85) Only keep the female candidates\n",
    "\n",
    "def female_chk(name):\n",
    "    return \"Mr.\" not in name\n",
    "# gender(name = 'Ms.Siya')\n",
    "# Variable is the placeholder of value stored\n",
    "_ex = ['Mr.John', 'Ms.Siya', 'Mrs.Tara', 'Mr.Tonny']\n",
    "list(filter(female_chk, _ex))"
   ]
  },
  {
   "cell_type": "code",
   "execution_count": 118,
   "metadata": {},
   "outputs": [
    {
     "data": {
      "text/plain": [
       "['Science', 'AlmaBetter', 'Engineering', 'Machine']"
      ]
     },
     "execution_count": 118,
     "metadata": {},
     "output_type": "execute_result"
    }
   ],
   "source": [
    "#86# keep words having > 5 len\n",
    "# ['Science', 'AlmaBetter', 'Engineering', 'Machine']\n",
    "\n",
    "def chk_length(w):\n",
    "    return len(w)>5\n",
    "words = ['Science', 'AlmaBetter', 'Engineering', 'Machine',\"Ram\"]\n",
    "list(filter(chk_length,words))"
   ]
  },
  {
   "cell_type": "code",
   "execution_count": 122,
   "metadata": {},
   "outputs": [
    {
     "data": {
      "text/plain": [
       "[4, 16, 9, 64, 4]"
      ]
     },
     "execution_count": 122,
     "metadata": {},
     "output_type": "execute_result"
    }
   ],
   "source": [
    "#87 # \n",
    "# Filter numbers which are perfect squares\n",
    "# Perfect square are number where\n",
    "# Square root is integer then it's a perfect number.\n",
    "# [4 , 16 , 9 , 64]\n",
    "# Hint : int(n ** (1/2)) == n ** (1/2) then perfect Square\n",
    "# filter will keep the value in the output if function gives True\n",
    "\n",
    "def chk_perfect_square(n):\n",
    "    return int(n**(1/2)) == n**(1/2)\n",
    "num_ch = [4 , 16 , 9 , 64, 4, 6,2]\n",
    "list(filter(chk_perfect_square, num_ch))"
   ]
  },
  {
   "cell_type": "code",
   "execution_count": 125,
   "metadata": {},
   "outputs": [
    {
     "data": {
      "text/plain": [
       "5"
      ]
     },
     "execution_count": 125,
     "metadata": {},
     "output_type": "execute_result"
    }
   ],
   "source": [
    "int(5.1)"
   ]
  },
  {
   "cell_type": "code",
   "execution_count": null,
   "metadata": {},
   "outputs": [
    {
     "data": {
      "text/plain": [
       "13"
      ]
     },
     "execution_count": 2,
     "metadata": {},
     "output_type": "execute_result"
    }
   ],
   "source": [
    "# 88 give two numbers as input a,b | print sum of a**2 and b**2 | Solve the problem using lambda function\n",
    "sum = lambda a, b : a**2+b**2\n",
    "sum(a=2, b=3)"
   ]
  },
  {
   "cell_type": "code",
   "execution_count": 4,
   "metadata": {},
   "outputs": [
    {
     "data": {
      "text/plain": [
       "['Science', 'AlmaBetter', 'Engineering', 'Machine']"
      ]
     },
     "execution_count": 4,
     "metadata": {},
     "output_type": "execute_result"
    }
   ],
   "source": [
    "#89 keep words having > 5 len using lambda function\n",
    "# ['Science', 'AlmaBetter', 'Engineering', 'Machine']\n",
    "\n",
    "words = ['Data', 'Hi', 'Science', 'AlmaBetter', 'Engineering', 'Machine']\n",
    "list(filter(lambda w : len(w)>5, words))"
   ]
  },
  {
   "cell_type": "code",
   "execution_count": 8,
   "metadata": {},
   "outputs": [
    {
     "data": {
      "text/plain": [
       "[4, 16, 9, 64]"
      ]
     },
     "execution_count": 8,
     "metadata": {},
     "output_type": "execute_result"
    }
   ],
   "source": [
    "#90 numbers which are perfect squares using lambda function\n",
    "# Perfect square are number where\n",
    "# Square root is integer then it's a perfect number.\n",
    "# [4 , 16 , 9 , 64]\n",
    "# Hint : int(n ** (1/2)) == n ** (1/2) then perfect Square\n",
    "# filter will keep the value in the output if function gives True\n",
    "\n",
    "num_list_1 = [4 , 16 , 9 , 64, 2, 8]\n",
    "list(filter(lambda n : int(n ** (1/2)) == n ** (1/2), num_list_1))"
   ]
  },
  {
   "cell_type": "code",
   "execution_count": 9,
   "metadata": {},
   "outputs": [
    {
     "data": {
      "text/plain": [
       "['Mrs. Tara', 'Ms Tanya', 'Mrs. Riva']"
      ]
     },
     "execution_count": 9,
     "metadata": {},
     "output_type": "execute_result"
    }
   ],
   "source": [
    "#91 checking all femaler candidates using lambda\n",
    "\n",
    "names = [\"Mr. John\", \"Mrs. Tara\", \"Ms Tanya\", \"Mrs. Riva\"]\n",
    "list(filter(lambda l : \"Mr.\" not in l, names ))"
   ]
  },
  {
   "cell_type": "code",
   "execution_count": 12,
   "metadata": {},
   "outputs": [
    {
     "data": {
      "text/plain": [
       "[25, 61, 113]"
      ]
     },
     "execution_count": 12,
     "metadata": {},
     "output_type": "execute_result"
    }
   ],
   "source": [
    "#92 sum of squares of first and second element\n",
    "\n",
    "ex = [(3,4),(5,6),(7,8)]\n",
    "list(map(lambda n : n[0]**2 + n[1]**2, ex))"
   ]
  },
  {
   "cell_type": "code",
   "execution_count": 15,
   "metadata": {},
   "outputs": [
    {
     "data": {
      "text/plain": [
       "[8000, 9000, 7500]"
      ]
     },
     "execution_count": 15,
     "metadata": {},
     "output_type": "execute_result"
    }
   ],
   "source": [
    "#93 \n",
    "ex = [8000,9000,7500,1000,2000,3000]\n",
    "list(filter(lambda n : n>5000, ex))"
   ]
  },
  {
   "cell_type": "code",
   "execution_count": 19,
   "metadata": {},
   "outputs": [
    {
     "data": {
      "text/plain": [
       "[{3: 'Odd'}, {45: 'Odd'}, {67: 'Odd'}, {58: 'Even'}, {92: 'Even'}]"
      ]
     },
     "execution_count": 19,
     "metadata": {},
     "output_type": "execute_result"
    }
   ],
   "source": [
    "#TERNARY OPERATORS - ONE LINER IF ELSE\n",
    "#94 Only take out even numbers \n",
    "list_ = [3,45,67,58,92]\n",
    "list(filter(lambda n : True if n%2==0 else False, list_))\n",
    "list(map(lambda n : {n: 'Even'} if n%2==0 else {n:'Odd'}, list_))"
   ]
  },
  {
   "cell_type": "code",
   "execution_count": null,
   "metadata": {},
   "outputs": [
    {
     "data": {
      "text/plain": [
       "'Consonent'"
      ]
     },
     "execution_count": 31,
     "metadata": {},
     "output_type": "execute_result"
    }
   ],
   "source": [
    "#95 Write a code where if character is vowel or Consonent\n",
    "char = input(\"enter a character\")\n",
    "list(map(lambda n : \"Vowel\" if n in 'aeiouAEIOU' else \"Consonent\", char))\n",
    "list(map(lambda n : \"Vowel\" if n.lower() in 'aeiou' else \"Consonent\", char))\n",
    "\"Vowel\" if char.lower() in 'aeiou' else \"Consonent\""
   ]
  },
  {
   "cell_type": "code",
   "execution_count": 43,
   "metadata": {},
   "outputs": [
    {
     "data": {
      "text/plain": [
       "'lmBttr'"
      ]
     },
     "execution_count": 43,
     "metadata": {},
     "output_type": "execute_result"
    }
   ],
   "source": [
    "#96 Remove all vowels from the name\n",
    "word = 'AlmaBetter'\n",
    "#for i in word:\n",
    "#    if i.lower() not in 'aeiou':\n",
    "#        print(i, end = \"\")\n",
    "\n",
    "list_out = list(filter(lambda c : True if c.lower() not in 'aeiou'else False, word))\n",
    "''.join(list_out)"
   ]
  },
  {
   "cell_type": "code",
   "execution_count": 2,
   "metadata": {},
   "outputs": [
    {
     "data": {
      "text/plain": [
       "[32, 50, 68, 86, 156]"
      ]
     },
     "execution_count": 2,
     "metadata": {},
     "output_type": "execute_result"
    }
   ],
   "source": [
    "#96 converting list of celsius\n",
    "celsius_temps = [0,10,20,30,69]\n",
    "[((i*9/5)+32) for i in celsius_temps]\n",
    "[round((i*9/5)+32) for i in celsius_temps]"
   ]
  },
  {
   "cell_type": "code",
   "execution_count": 5,
   "metadata": {},
   "outputs": [
    {
     "data": {
      "text/plain": [
       "[32, 50, 68, 86, 156]"
      ]
     },
     "execution_count": 5,
     "metadata": {},
     "output_type": "execute_result"
    }
   ],
   "source": [
    "#using map and lambda\n",
    "list(map(lambda i : round((i*9/5)+32), celsius_temps))"
   ]
  },
  {
   "cell_type": "code",
   "execution_count": 10,
   "metadata": {},
   "outputs": [
    {
     "data": {
      "text/plain": [
       "[75, 90, 80]"
      ]
     },
     "execution_count": 10,
     "metadata": {},
     "output_type": "execute_result"
    }
   ],
   "source": [
    "#97 grades = [75, 45, 90, 30, 80, 55]\n",
    "# Filter grades greater than or equal to 60 using list comprehension\n",
    "# [output for item in iterable if condition]\n",
    "\n",
    "# method 1 using list comprehension\n",
    "\n",
    "grades = [75, 45, 90, 30, 80, 55]\n",
    "[grade for grade in grades if grade>=60]\n",
    "\n",
    "#method 2 using lambda\n",
    "\n",
    "list(filter(lambda c : c>=60, grades))"
   ]
  },
  {
   "cell_type": "code",
   "execution_count": 11,
   "metadata": {},
   "outputs": [
    {
     "data": {
      "text/plain": [
       "['image.png', 'movies.mp4', 'songs.mp3', 'file_txt.ipynb']"
      ]
     },
     "execution_count": 11,
     "metadata": {},
     "output_type": "execute_result"
    }
   ],
   "source": [
    "#98 files = ['document.txt','image.png','movies.mp4', 'songs.mp3','file_txt.ipynb']\n",
    "\n",
    "# output all files other than .txt\n",
    "# ['image.png','movies.mp4', 'songs.mp3', 'file_txt.ipynb']\n",
    "# list comprehension\n",
    "\n",
    "# # [output for item in iterable if condition]\n",
    "\n",
    "files = ['document.txt','image.png','movies.mp4', 'songs.mp3','file_txt.ipynb']\n",
    "[i for i in files if \".txt\" not in i]"
   ]
  },
  {
   "cell_type": "code",
   "execution_count": 12,
   "metadata": {},
   "outputs": [
    {
     "data": {
      "text/plain": [
       "['image.png', 'movies.mp4', 'songs.mp3', 'file_txt.ipynb']"
      ]
     },
     "execution_count": 12,
     "metadata": {},
     "output_type": "execute_result"
    }
   ],
   "source": [
    "#using filter and lambda\n",
    "list(filter(lambda c: \".txt\" not in c, files))"
   ]
  },
  {
   "cell_type": "code",
   "execution_count": null,
   "metadata": {},
   "outputs": [
    {
     "data": {
      "text/plain": [
       "['Fail', 'Fail', 'pass', 'Fail', 'pass', 'pass', 'pass', 'pass']"
      ]
     },
     "execution_count": 15,
     "metadata": {},
     "output_type": "execute_result"
    }
   ],
   "source": [
    "#99 # grades = [40,50, 60, 30, 80, 90, 70,95]\n",
    "# >=60 'Pass, 'Fail'\n",
    "# [output if conditon else output for item in iterable]\n",
    "grades = [40,50, 60, 30, 80, 90, 70,95]\n",
    "\n",
    "[\"pass\" if z>=60 else \"Fail\" for z in grades]"
   ]
  },
  {
   "cell_type": "code",
   "execution_count": null,
   "metadata": {},
   "outputs": [],
   "source": [
    "#using lambda\n",
    "grades = [40,50, 60, 30, 80, 90, 70,95]\n",
    "list(map(lambda x: 'Pass' if x >=60 else 'Fail', grades))"
   ]
  },
  {
   "cell_type": "code",
   "execution_count": 45,
   "metadata": {},
   "outputs": [],
   "source": [
    "del list"
   ]
  },
  {
   "cell_type": "code",
   "execution_count": 52,
   "metadata": {},
   "outputs": [
    {
     "data": {
      "text/plain": [
       "[4]"
      ]
     },
     "execution_count": 52,
     "metadata": {},
     "output_type": "execute_result"
    }
   ],
   "source": [
    "#100 Square Even Numbers\n",
    "#Write a Python code that takes a list as an input and returns the squares of only the even numbers.\n",
    "#Use the filter() function to filter even numbers, and the map() function to apply squaring.\n",
    "\n",
    "## List Comprehension\n",
    "list_ = eval(input(\"enter a list\"))\n",
    "[n**2 for n in list_ if n%2==0]"
   ]
  },
  {
   "cell_type": "code",
   "execution_count": null,
   "metadata": {},
   "outputs": [
    {
     "data": {
      "text/plain": [
       "[4, 16]"
      ]
     },
     "execution_count": 51,
     "metadata": {},
     "output_type": "execute_result"
    }
   ],
   "source": [
    "### Filter and map\n",
    "list_ = eval(input(\"enter a list\"))\n",
    "list(map(lambda x: x**2,filter(lambda x: x%2 ==0, list_)))"
   ]
  },
  {
   "cell_type": "code",
   "execution_count": 53,
   "metadata": {},
   "outputs": [
    {
     "data": {
      "text/plain": [
       "[(1, 1), (3, 9)]"
      ]
     },
     "execution_count": 53,
     "metadata": {},
     "output_type": "execute_result"
    }
   ],
   "source": [
    "#101'''\n",
    "#List Comprehension to Create Pairs\n",
    "#Given a list of numbers, write a Python code that uses list comprehension\n",
    "#to generate a new list of tuples, where each tuple contains a odd numbers and its square.\n",
    "#input = [1, 2, 3, 4]  # Output: [(1, 1), (3, 9)]\n",
    "input_ = [1, 2, 3, 4] \n",
    "[(i, i**2) for i in input_ if i%2!=0]\n"
   ]
  },
  {
   "cell_type": "code",
   "execution_count": 54,
   "metadata": {},
   "outputs": [
    {
     "data": {
      "text/plain": [
       "[(1, 1), (3, 9)]"
      ]
     },
     "execution_count": 54,
     "metadata": {},
     "output_type": "execute_result"
    }
   ],
   "source": [
    "#using map and filter\n",
    "list(map(lambda i: (i, i**2), filter(lambda i: i%2!=0, input_ )))"
   ]
  },
  {
   "cell_type": "code",
   "execution_count": 55,
   "metadata": {},
   "outputs": [
    {
     "data": {
      "text/plain": [
       "{2: 'Even', 3: 'Odd', 4: 'Even', 5: 'Odd', 6: 'Even', 7: 'Odd'}"
      ]
     },
     "execution_count": 55,
     "metadata": {},
     "output_type": "execute_result"
    }
   ],
   "source": [
    "#102 even and odd using dictionary comprehension\n",
    "\n",
    "_list = [2,3,4,5,6,7]\n",
    "{i:'Even'if i%2==0 else \"Odd\" for i in _list}"
   ]
  },
  {
   "cell_type": "code",
   "execution_count": 62,
   "metadata": {},
   "outputs": [
    {
     "data": {
      "text/plain": [
       "{'a': 'Vowel',\n",
       " 'e': 'Vowel',\n",
       " 'b': 'Consonent',\n",
       " 'n': 'Consonent',\n",
       " 'c': 'Consonent',\n",
       " 't': 'Consonent'}"
      ]
     },
     "execution_count": 62,
     "metadata": {},
     "output_type": "execute_result"
    }
   ],
   "source": [
    "#103 finding vowel and consonent \n",
    "_var=['a','e','b','n','c','t']\n",
    "{i:\"Vowel\" if i.lower() in \"aeiou\" else \"Consonent\" for i in _var}"
   ]
  },
  {
   "cell_type": "code",
   "execution_count": 63,
   "metadata": {},
   "outputs": [
    {
     "data": {
      "text/plain": [
       "True"
      ]
     },
     "execution_count": 63,
     "metadata": {},
     "output_type": "execute_result"
    }
   ],
   "source": [
    "#104 program : List : If all numbers are greater than a certain number\n",
    "\n",
    "list_nums = [1,2,3,4,10,50]\n",
    "number =7\n",
    "def chk_list(l,n):\n",
    "    for i in list_nums:\n",
    "        if i>number:\n",
    "            return False\n",
    "        return True\n",
    "chk_list(l=list_nums, n=number)    \n"
   ]
  },
  {
   "cell_type": "code",
   "execution_count": 69,
   "metadata": {},
   "outputs": [
    {
     "data": {
      "text/plain": [
       "[(4, 16), (5, 2), (6, 36), (2, 4), (6, 36), (7, 3), (9, 3)]"
      ]
     },
     "execution_count": 69,
     "metadata": {},
     "output_type": "execute_result"
    }
   ],
   "source": [
    "#105 given a list if the no is even do square | if odd square root\n",
    "\n",
    "_list = [4,5,6,2,6,7,9]\n",
    "[(i,i**2) if i%2==0 else (i, round(i**(1/2))) for i in _list]"
   ]
  },
  {
   "cell_type": "code",
   "execution_count": null,
   "metadata": {},
   "outputs": [
    {
     "data": {
      "text/plain": [
       "{'e', 'i'}"
      ]
     },
     "execution_count": 83,
     "metadata": {},
     "output_type": "execute_result"
    }
   ],
   "source": [
    "#106 # word = 'Engineering'\n",
    "# {} : set of Unique Vowels\n",
    "# Set comprehension\n",
    "word = 'Engineering'\n",
    "result = set()\n",
    "def set_vowels(word):\n",
    "    for i in word.lower():\n",
    "        if i in \"aeiou\":\n",
    "            result.add(i)\n",
    "    return result        \n",
    "set_vowels('Engineering')     "
   ]
  },
  {
   "cell_type": "code",
   "execution_count": 79,
   "metadata": {},
   "outputs": [
    {
     "data": {
      "text/plain": [
       "{'E', 'e', 'i'}"
      ]
     },
     "execution_count": 79,
     "metadata": {},
     "output_type": "execute_result"
    }
   ],
   "source": [
    "{i for i in word if i.lower() in \"aeiou\"}"
   ]
  },
  {
   "cell_type": "code",
   "execution_count": 111,
   "metadata": {},
   "outputs": [
    {
     "data": {
      "text/plain": [
       "['banana', 'cherry', 'apple']"
      ]
     },
     "execution_count": 111,
     "metadata": {},
     "output_type": "execute_result"
    }
   ],
   "source": [
    "#107 Question: Sorting a Dictionary by Values\n",
    "#Given a dictionary where the keys are strings and the values are integers,\n",
    "#write a Python function that sorts the dictionary by its values in ascending order.\n",
    "#sorted - to sort one dimensional data - list,tuple,set\n",
    "#dictionary is two dimensional\n",
    "\n",
    "my_dict = {'apple': 3, 'banana': 1, 'cherry': 2}\n",
    "[i[0] for i in sorted(my_dict.items(), key = lambda x : x[1])]"
   ]
  },
  {
   "cell_type": "code",
   "execution_count": null,
   "metadata": {},
   "outputs": [
    {
     "data": {
      "text/plain": [
       "[6, 7, 8, 9, 123]"
      ]
     },
     "execution_count": 86,
     "metadata": {},
     "output_type": "execute_result"
    }
   ],
   "source": [
    "#108 Printing a list in ascending order\n",
    "_list = [9,8,123,6,7]\n",
    "sorted(_list)"
   ]
  },
  {
   "cell_type": "code",
   "execution_count": null,
   "metadata": {},
   "outputs": [
    {
     "data": {
      "text/plain": [
       "[123, 9, 8, 7, 6]"
      ]
     },
     "execution_count": 87,
     "metadata": {},
     "output_type": "execute_result"
    }
   ],
   "source": [
    "#109 Printing a list in descending order\n",
    "_list = [9,8,123,6,7]\n",
    "sorted(_list, reverse=True)"
   ]
  },
  {
   "cell_type": "code",
   "execution_count": null,
   "metadata": {},
   "outputs": [
    {
     "data": {
      "text/plain": [
       "[('Alison', 30, 2000),\n",
       " ('Bob', 24, 5000),\n",
       " ('Charlie', 50, 7000),\n",
       " ('Doug', 35, 2000)]"
      ]
     },
     "execution_count": 91,
     "metadata": {},
     "output_type": "execute_result"
    }
   ],
   "source": [
    "#110 Expected Output : ['Bob', 'Alison', 'Doug', 'Charlie']\n",
    "# Ascending order of names based on name in ascending order\n",
    "_list = [('Alison',30,2000), ('Bob', 24,5000),('Doug', 35,2000),('Charlie', 50,7000)] #sorted based on first element\n",
    "sorted(_list, key = lambda x : x[0])"
   ]
  },
  {
   "cell_type": "code",
   "execution_count": null,
   "metadata": {},
   "outputs": [
    {
     "data": {
      "text/plain": [
       "[('Bob', 24, 5000),\n",
       " ('Alison', 30, 2000),\n",
       " ('Doug', 35, 2000),\n",
       " ('Charlie', 50, 7000)]"
      ]
     },
     "execution_count": 92,
     "metadata": {},
     "output_type": "execute_result"
    }
   ],
   "source": [
    "#111 sorting the list based on age in ascending order\n",
    "_list = [('Alison',30,2000), ('Bob', 24,5000),('Doug', 35,2000),('Charlie', 50,7000)] #sorted in ascending order based on age\n",
    "sorted(_list, key = lambda x : x[1])"
   ]
  },
  {
   "cell_type": "code",
   "execution_count": null,
   "metadata": {},
   "outputs": [
    {
     "data": {
      "text/plain": [
       "[('Charlie', 50, 7000),\n",
       " ('Doug', 35, 2000),\n",
       " ('Alison', 30, 2000),\n",
       " ('Bob', 24, 5000)]"
      ]
     },
     "execution_count": 93,
     "metadata": {},
     "output_type": "execute_result"
    }
   ],
   "source": [
    "#112 sorting the list based on age in descending order\n",
    "_list = [('Alison',30,2000), ('Bob', 24,5000),('Doug', 35,2000),('Charlie', 50,7000)] #sorted in descending order based on age\n",
    "sorted(_list, key = lambda x : x[1], reverse=True)"
   ]
  },
  {
   "cell_type": "code",
   "execution_count": null,
   "metadata": {},
   "outputs": [
    {
     "data": {
      "text/plain": [
       "[('Alison', 30, 2000),\n",
       " ('Doug', 35, 2000),\n",
       " ('Bob', 24, 5000),\n",
       " ('Charlie', 50, 7000)]"
      ]
     },
     "execution_count": 94,
     "metadata": {},
     "output_type": "execute_result"
    }
   ],
   "source": [
    "#113 sorting based on salary\n",
    "_list = [('Alison',30,2000), ('Bob', 24,5000),('Doug', 35,2000),('Charlie', 50,7000)] #sorted in descending order based on age\n",
    "sorted(_list, key = lambda x : x[2])"
   ]
  },
  {
   "cell_type": "code",
   "execution_count": null,
   "metadata": {},
   "outputs": [
    {
     "data": {
      "text/plain": [
       "[('Charlie', 50, 7000),\n",
       " ('Bob', 24, 5000),\n",
       " ('Alison', 30, 2000),\n",
       " ('Doug', 35, 2000)]"
      ]
     },
     "execution_count": 95,
     "metadata": {},
     "output_type": "execute_result"
    }
   ],
   "source": [
    "#114 sorting based on salary in descending order\n",
    "_list = [('Alison',30,2000), ('Bob', 24,5000),('Doug', 35,2000),('Charlie', 50,7000)] #sorted in descending order based on age\n",
    "sorted(_list, key = lambda x : -x[2]) #reverse = True OR - minus we can use"
   ]
  },
  {
   "cell_type": "code",
   "execution_count": null,
   "metadata": {},
   "outputs": [
    {
     "data": {
      "text/plain": [
       "['Charlie', 'Bob', 'Alison', 'Doug']"
      ]
     },
     "execution_count": 97,
     "metadata": {},
     "output_type": "execute_result"
    }
   ],
   "source": [
    "#115 Filter name from the list\n",
    "_list = [('Alison',30,2000), ('Bob', 24,5000),('Doug', 35,2000),('Charlie', 50,7000)] \n",
    "[i[0] for i in  sorted(_list, key = lambda x : -x[2])]"
   ]
  },
  {
   "cell_type": "code",
   "execution_count": null,
   "metadata": {},
   "outputs": [
    {
     "data": {
      "text/plain": [
       "['c', 'a', 'e', 'd']"
      ]
     },
     "execution_count": 110,
     "metadata": {},
     "output_type": "execute_result"
    }
   ],
   "source": [
    "#116 sort the list based on discounts \n",
    "#in such cases we can juuse Zip function \n",
    "_items = ['a','d','c','e']\n",
    "_discounts = [.4, .3, .5, .35]\n",
    "list_1=list(zip(_items, _discounts))\n",
    "[i[0] for i in sorted(list_1, key = lambda x : -x[1])]\n"
   ]
  },
  {
   "cell_type": "code",
   "execution_count": null,
   "metadata": {},
   "outputs": [],
   "source": [
    "#117  Define a function named zodiac that takes one parameter, 'year'.\n",
    "def zodiac(year):\n",
    "    # Check if the remainder of (year - 2000) divided by 12 is 0, which corresponds to 'Dragon'.\n",
    "    if (year - 2000) % 12 == 0:\n",
    "        sign = 'Dragon'\n",
    "    \n",
    "    # Check if the remainder is 1, which corresponds to 'Snake'.\n",
    "    elif (year - 2000) % 12 == 1:\n",
    "        sign = 'Snake'\n",
    "    \n",
    "    # Check if the remainder is 2, which corresponds to 'Horse'.\n",
    "    elif (year - 2000) % 12 == 2:\n",
    "        sign = 'Horse'\n",
    "    \n",
    "    # Check if the remainder is 3, which corresponds to 'Goat'.\n",
    "    elif (year - 2000) % 12 == 3:\n",
    "        sign = 'Goat'\n",
    "    \n",
    "    # Check if the remainder is 4, which corresponds to 'Monkey'.\n",
    "    elif (year - 2000) % 12 == 4:\n",
    "        sign = 'Monkey'\n",
    "    \n",
    "    # Check if the remainder is 5, which corresponds to 'Rooster'.\n",
    "    elif (year - 2000) % 12 == 5:\n",
    "        sign = 'Rooster'\n",
    "    \n",
    "    # Check if the remainder is 6, which corresponds to 'Dog'.\n",
    "    elif (year - 2000) % 12 == 6:\n",
    "        sign = 'Dog'\n",
    "    \n",
    "    # Check if the remainder is 7, which corresponds to 'Pig'.\n",
    "    elif (year - 2000) % 12 == 7:\n",
    "        sign = 'Pig'\n",
    "    \n",
    "    # Check if the remainder is 8, which corresponds to 'Rat'.\n",
    "    elif (year - 2000) % 12 == 8:\n",
    "        sign = 'Rat'\n",
    "    \n",
    "    # Check if the remainder is 9, which corresponds to 'Ox'.\n",
    "    elif (year - 2000) % 12 == 9:\n",
    "        sign = 'Ox'\n",
    "    \n",
    "    # Check if the remainder is 10, which corresponds to 'Tiger'.\n",
    "    elif (year - 2000) % 12 == 10:\n",
    "        sign = 'Tiger'\n",
    "    \n",
    "    # If none of the above, it defaults to remainder 11, which corresponds to 'Rabbit'.\n",
    "    else:\n",
    "        sign = 'Rabbit'\n",
    "\n",
    "    # Return a tuple containing a message and the determined Zodiac sign.\n",
    "    return (\"Your Zodiac sign :\", sign)\n",
    "\n",
    "# Take an integer input from the user, representing the year, and assign it to 'year'.\n",
    "year = int(input())\n",
    "\n",
    "# Call the zodiac function with 'year' as the argument and print the returned result.\n",
    "print(zodiac(year))"
   ]
  },
  {
   "cell_type": "code",
   "execution_count": null,
   "metadata": {},
   "outputs": [
    {
     "name": "stdout",
     "output_type": "stream",
     "text": [
      "Player 1 average roll: 3.40\n",
      "Player 2 average roll: 3.80\n",
      "Player 3 average roll: 4.40\n",
      "\n",
      "🎉 Result 🎉\n",
      "Player 3 is the luckiest with an average of 4.40!\n"
     ]
    }
   ],
   "source": [
    "#118) You and your friends are playing a board game where you roll a dice and move your game piece accordingly. \n",
    "# However, you want to know the average number rolled by each player to see who's really the luckiest. \n",
    "# Write a program that takes a list of rolls as input for each player and uses a for loop to calculate the average roll for each player. \n",
    "# The winner gets bragging rights for being the luckiest!\n",
    "\n",
    "player_rolls = [\n",
    "    [3, 5, 6, 2, 1],  # player 1's rolls\n",
    "    [4, 4, 6, 3, 2],  # player 2's rolls\n",
    "    [1, 5, 6, 6, 4]   # player 3's rolls\n",
    "] # list of a list\n",
    "\n",
    "average = []\n",
    "\n",
    "for i in range(len(player_rolls)):\n",
    "    rolls = player_rolls[i]\n",
    "    avg = sum(rolls)/len(rolls)\n",
    "    average.append(avg)\n",
    "    print(f\"Player {i+1} average roll: {avg:.2f}\")\n",
    "\n",
    "# Find the highest average and the winner(s)\n",
    "max_avg = max(average)\n",
    "winners = [i+1 for i, avg in enumerate(average) if avg == max_avg]\n",
    "\n",
    "print(\"\\n🎉 Result 🎉\")\n",
    "if len(winners) == 1:\n",
    "    print(f\"Player {winners[0]} is the luckiest with an average of {max_avg:.2f}!\")\n",
    "else:\n",
    "    print(f\"It's a tie between players {', '.join(map(str, winners))} with an average of {max_avg:.2f}!\")\n"
   ]
  },
  {
   "cell_type": "code",
   "execution_count": null,
   "metadata": {},
   "outputs": [
    {
     "name": "stdout",
     "output_type": "stream",
     "text": [
      "Alice\n",
      "Bob\n",
      "Charlie\n",
      "Diana\n",
      "Alice\n",
      "Bob\n",
      "Charlie\n",
      "Diana\n",
      "Alice\n",
      "Bob\n",
      "Charlie\n",
      "Diana\n",
      "Alice\n",
      "Bob\n",
      "Charlie\n",
      "Diana\n"
     ]
    }
   ],
   "source": [
    "#119) Imagine you're organizing a chess tournament 🏆, where each player has to play against every other player. \n",
    "# To achieve this, you can use nested loops in Python! Nested loops are simply loops within loops, \n",
    "# and they come in handy when you need to perform tasks involving multiple levels of iteration.\n",
    "players = ['Alice', 'Bob', 'Charlie', 'Diana']\n",
    "for i in players:\n",
    "  for j in players:\n",
    "    print(j)\n",
    "    if i!=j:\n",
    "      print(f\"{i} vs {j}\")"
   ]
  },
  {
   "cell_type": "code",
   "execution_count": null,
   "metadata": {},
   "outputs": [],
   "source": [
    "#120 📊📈 Suppose you are working for a company that deals with financial data. \n",
    "# You have been given a list of dictionaries, where each dictionary contains the following information about a stock: name, ticker symbol, price, and percentage change in price. \n",
    "# Your task is to create a new list of dictionaries, where each dictionary contains only the name and price of the stock, \n",
    "# but only for those stocks where the price is greater than 100 and the percentage change is positive. You must use list comprehension to solve the problem.\n",
    "#Can you write the code to create the desired list of dictionaries using list comprehension?\n",
    "#👉 Hint: You can use conditional statements to check if the price is greater than 100 and the percentage change is positive in the list comprehension.\n",
    "\n",
    "stocks = [\n",
    "    {'name': 'Apple Inc.', 'ticker': 'AAPL', 'price': 120.0, 'change': 0.05},\n",
    "    {'name': 'Microsoft Corporation', 'ticker': 'MSFT', 'price': 95.0, 'change': -0.02},\n",
    "    {'name': 'Amazon.com, Inc.', 'ticker': 'AMZN', 'price': 250.0, 'change': 0.1},\n",
    "    {'name': 'Alphabet Inc.', 'ticker': 'GOOGL', 'price': 110.0, 'change': 0.02},\n",
    "    {'name': 'Facebook, Inc.', 'ticker': 'FB', 'price': 80.0, 'change': 0.03}\n",
    "]\n",
    "\n",
    "{}\n"
   ]
  }
 ],
 "metadata": {
  "kernelspec": {
   "display_name": "Python 3",
   "language": "python",
   "name": "python3"
  },
  "language_info": {
   "codemirror_mode": {
    "name": "ipython",
    "version": 3
   },
   "file_extension": ".py",
   "mimetype": "text/x-python",
   "name": "python",
   "nbconvert_exporter": "python",
   "pygments_lexer": "ipython3",
   "version": "3.12.6"
  }
 },
 "nbformat": 4,
 "nbformat_minor": 2
}
